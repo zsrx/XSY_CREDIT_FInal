{
 "cells": [
  {
   "cell_type": "code",
   "execution_count": 235,
   "id": "73763b47-4f2f-445e-bb8e-c297af2b57fa",
   "metadata": {},
   "outputs": [
    {
     "name": "stdout",
     "output_type": "stream",
     "text": [
      "\f",
      "\n"
     ]
    }
   ],
   "source": [
    "clear"
   ]
  },
  {
   "cell_type": "code",
   "execution_count": 1,
   "id": "aea965e4-b754-4999-9a3c-b63f7ed2d9c3",
   "metadata": {},
   "outputs": [],
   "source": [
    "import os\n",
    "os.chdir(\"D:\\谷歌下载\\GiveMeSomeCredit\")"
   ]
  },
  {
   "cell_type": "code",
   "execution_count": 2,
   "id": "bc2a9a96-a896-43ac-b500-d15bf5a24dd8",
   "metadata": {},
   "outputs": [],
   "source": [
    "import pandas as pd\n",
    "import numpy as np\n",
    "import matplotlib.pyplot as plt #导入图像库"
   ]
  },
  {
   "cell_type": "code",
   "execution_count": 3,
   "id": "cdb57937-b883-4875-a01e-e31c3de65ef2",
   "metadata": {},
   "outputs": [],
   "source": [
    "data=pd.read_csv(\"cs-training.csv\")"
   ]
  },
  {
   "cell_type": "code",
   "execution_count": 4,
   "id": "c1b24fd9-3aeb-43c4-ba5b-b72fc105b468",
   "metadata": {},
   "outputs": [
    {
     "data": {
      "text/html": [
       "<div>\n",
       "<style scoped>\n",
       "    .dataframe tbody tr th:only-of-type {\n",
       "        vertical-align: middle;\n",
       "    }\n",
       "\n",
       "    .dataframe tbody tr th {\n",
       "        vertical-align: top;\n",
       "    }\n",
       "\n",
       "    .dataframe thead th {\n",
       "        text-align: right;\n",
       "    }\n",
       "</style>\n",
       "<table border=\"1\" class=\"dataframe\">\n",
       "  <thead>\n",
       "    <tr style=\"text-align: right;\">\n",
       "      <th></th>\n",
       "      <th>Unnamed: 0</th>\n",
       "      <th>SeriousDlqin2yrs</th>\n",
       "      <th>RevolvingUtilizationOfUnsecuredLines</th>\n",
       "      <th>age</th>\n",
       "      <th>NumberOfTime30-59DaysPastDueNotWorse</th>\n",
       "      <th>DebtRatio</th>\n",
       "      <th>MonthlyIncome</th>\n",
       "      <th>NumberOfOpenCreditLinesAndLoans</th>\n",
       "      <th>NumberOfTimes90DaysLate</th>\n",
       "      <th>NumberRealEstateLoansOrLines</th>\n",
       "      <th>NumberOfTime60-89DaysPastDueNotWorse</th>\n",
       "      <th>NumberOfDependents</th>\n",
       "    </tr>\n",
       "  </thead>\n",
       "  <tbody>\n",
       "    <tr>\n",
       "      <th>0</th>\n",
       "      <td>1</td>\n",
       "      <td>1</td>\n",
       "      <td>0.766127</td>\n",
       "      <td>45</td>\n",
       "      <td>2</td>\n",
       "      <td>0.802982</td>\n",
       "      <td>9120.0</td>\n",
       "      <td>13</td>\n",
       "      <td>0</td>\n",
       "      <td>6</td>\n",
       "      <td>0</td>\n",
       "      <td>2.0</td>\n",
       "    </tr>\n",
       "    <tr>\n",
       "      <th>1</th>\n",
       "      <td>2</td>\n",
       "      <td>0</td>\n",
       "      <td>0.957151</td>\n",
       "      <td>40</td>\n",
       "      <td>0</td>\n",
       "      <td>0.121876</td>\n",
       "      <td>2600.0</td>\n",
       "      <td>4</td>\n",
       "      <td>0</td>\n",
       "      <td>0</td>\n",
       "      <td>0</td>\n",
       "      <td>1.0</td>\n",
       "    </tr>\n",
       "    <tr>\n",
       "      <th>2</th>\n",
       "      <td>3</td>\n",
       "      <td>0</td>\n",
       "      <td>0.658180</td>\n",
       "      <td>38</td>\n",
       "      <td>1</td>\n",
       "      <td>0.085113</td>\n",
       "      <td>3042.0</td>\n",
       "      <td>2</td>\n",
       "      <td>1</td>\n",
       "      <td>0</td>\n",
       "      <td>0</td>\n",
       "      <td>0.0</td>\n",
       "    </tr>\n",
       "    <tr>\n",
       "      <th>3</th>\n",
       "      <td>4</td>\n",
       "      <td>0</td>\n",
       "      <td>0.233810</td>\n",
       "      <td>30</td>\n",
       "      <td>0</td>\n",
       "      <td>0.036050</td>\n",
       "      <td>3300.0</td>\n",
       "      <td>5</td>\n",
       "      <td>0</td>\n",
       "      <td>0</td>\n",
       "      <td>0</td>\n",
       "      <td>0.0</td>\n",
       "    </tr>\n",
       "    <tr>\n",
       "      <th>4</th>\n",
       "      <td>5</td>\n",
       "      <td>0</td>\n",
       "      <td>0.907239</td>\n",
       "      <td>49</td>\n",
       "      <td>1</td>\n",
       "      <td>0.024926</td>\n",
       "      <td>63588.0</td>\n",
       "      <td>7</td>\n",
       "      <td>0</td>\n",
       "      <td>1</td>\n",
       "      <td>0</td>\n",
       "      <td>0.0</td>\n",
       "    </tr>\n",
       "    <tr>\n",
       "      <th>...</th>\n",
       "      <td>...</td>\n",
       "      <td>...</td>\n",
       "      <td>...</td>\n",
       "      <td>...</td>\n",
       "      <td>...</td>\n",
       "      <td>...</td>\n",
       "      <td>...</td>\n",
       "      <td>...</td>\n",
       "      <td>...</td>\n",
       "      <td>...</td>\n",
       "      <td>...</td>\n",
       "      <td>...</td>\n",
       "    </tr>\n",
       "    <tr>\n",
       "      <th>149995</th>\n",
       "      <td>149996</td>\n",
       "      <td>0</td>\n",
       "      <td>0.040674</td>\n",
       "      <td>74</td>\n",
       "      <td>0</td>\n",
       "      <td>0.225131</td>\n",
       "      <td>2100.0</td>\n",
       "      <td>4</td>\n",
       "      <td>0</td>\n",
       "      <td>1</td>\n",
       "      <td>0</td>\n",
       "      <td>0.0</td>\n",
       "    </tr>\n",
       "    <tr>\n",
       "      <th>149996</th>\n",
       "      <td>149997</td>\n",
       "      <td>0</td>\n",
       "      <td>0.299745</td>\n",
       "      <td>44</td>\n",
       "      <td>0</td>\n",
       "      <td>0.716562</td>\n",
       "      <td>5584.0</td>\n",
       "      <td>4</td>\n",
       "      <td>0</td>\n",
       "      <td>1</td>\n",
       "      <td>0</td>\n",
       "      <td>2.0</td>\n",
       "    </tr>\n",
       "    <tr>\n",
       "      <th>149997</th>\n",
       "      <td>149998</td>\n",
       "      <td>0</td>\n",
       "      <td>0.246044</td>\n",
       "      <td>58</td>\n",
       "      <td>0</td>\n",
       "      <td>3870.000000</td>\n",
       "      <td>NaN</td>\n",
       "      <td>18</td>\n",
       "      <td>0</td>\n",
       "      <td>1</td>\n",
       "      <td>0</td>\n",
       "      <td>0.0</td>\n",
       "    </tr>\n",
       "    <tr>\n",
       "      <th>149998</th>\n",
       "      <td>149999</td>\n",
       "      <td>0</td>\n",
       "      <td>0.000000</td>\n",
       "      <td>30</td>\n",
       "      <td>0</td>\n",
       "      <td>0.000000</td>\n",
       "      <td>5716.0</td>\n",
       "      <td>4</td>\n",
       "      <td>0</td>\n",
       "      <td>0</td>\n",
       "      <td>0</td>\n",
       "      <td>0.0</td>\n",
       "    </tr>\n",
       "    <tr>\n",
       "      <th>149999</th>\n",
       "      <td>150000</td>\n",
       "      <td>0</td>\n",
       "      <td>0.850283</td>\n",
       "      <td>64</td>\n",
       "      <td>0</td>\n",
       "      <td>0.249908</td>\n",
       "      <td>8158.0</td>\n",
       "      <td>8</td>\n",
       "      <td>0</td>\n",
       "      <td>2</td>\n",
       "      <td>0</td>\n",
       "      <td>0.0</td>\n",
       "    </tr>\n",
       "  </tbody>\n",
       "</table>\n",
       "<p>150000 rows × 12 columns</p>\n",
       "</div>"
      ],
      "text/plain": [
       "        Unnamed: 0  SeriousDlqin2yrs  RevolvingUtilizationOfUnsecuredLines  \\\n",
       "0                1                 1                              0.766127   \n",
       "1                2                 0                              0.957151   \n",
       "2                3                 0                              0.658180   \n",
       "3                4                 0                              0.233810   \n",
       "4                5                 0                              0.907239   \n",
       "...            ...               ...                                   ...   \n",
       "149995      149996                 0                              0.040674   \n",
       "149996      149997                 0                              0.299745   \n",
       "149997      149998                 0                              0.246044   \n",
       "149998      149999                 0                              0.000000   \n",
       "149999      150000                 0                              0.850283   \n",
       "\n",
       "        age  NumberOfTime30-59DaysPastDueNotWorse    DebtRatio  MonthlyIncome  \\\n",
       "0        45                                     2     0.802982         9120.0   \n",
       "1        40                                     0     0.121876         2600.0   \n",
       "2        38                                     1     0.085113         3042.0   \n",
       "3        30                                     0     0.036050         3300.0   \n",
       "4        49                                     1     0.024926        63588.0   \n",
       "...     ...                                   ...          ...            ...   \n",
       "149995   74                                     0     0.225131         2100.0   \n",
       "149996   44                                     0     0.716562         5584.0   \n",
       "149997   58                                     0  3870.000000            NaN   \n",
       "149998   30                                     0     0.000000         5716.0   \n",
       "149999   64                                     0     0.249908         8158.0   \n",
       "\n",
       "        NumberOfOpenCreditLinesAndLoans  NumberOfTimes90DaysLate  \\\n",
       "0                                    13                        0   \n",
       "1                                     4                        0   \n",
       "2                                     2                        1   \n",
       "3                                     5                        0   \n",
       "4                                     7                        0   \n",
       "...                                 ...                      ...   \n",
       "149995                                4                        0   \n",
       "149996                                4                        0   \n",
       "149997                               18                        0   \n",
       "149998                                4                        0   \n",
       "149999                                8                        0   \n",
       "\n",
       "        NumberRealEstateLoansOrLines  NumberOfTime60-89DaysPastDueNotWorse  \\\n",
       "0                                  6                                     0   \n",
       "1                                  0                                     0   \n",
       "2                                  0                                     0   \n",
       "3                                  0                                     0   \n",
       "4                                  1                                     0   \n",
       "...                              ...                                   ...   \n",
       "149995                             1                                     0   \n",
       "149996                             1                                     0   \n",
       "149997                             1                                     0   \n",
       "149998                             0                                     0   \n",
       "149999                             2                                     0   \n",
       "\n",
       "        NumberOfDependents  \n",
       "0                      2.0  \n",
       "1                      1.0  \n",
       "2                      0.0  \n",
       "3                      0.0  \n",
       "4                      0.0  \n",
       "...                    ...  \n",
       "149995                 0.0  \n",
       "149996                 2.0  \n",
       "149997                 0.0  \n",
       "149998                 0.0  \n",
       "149999                 0.0  \n",
       "\n",
       "[150000 rows x 12 columns]"
      ]
     },
     "execution_count": 4,
     "metadata": {},
     "output_type": "execute_result"
    }
   ],
   "source": [
    "data"
   ]
  },
  {
   "cell_type": "code",
   "execution_count": 5,
   "id": "9b369d3d-aaf2-459c-866f-9dafb27933ff",
   "metadata": {},
   "outputs": [],
   "source": [
    "data.describe().to_csv('DataDescribe1.csv')  # 了解数据集的分布情况"
   ]
  },
  {
   "cell_type": "code",
   "execution_count": 5,
   "id": "e44ec95e-1666-42e9-827d-c29467355914",
   "metadata": {},
   "outputs": [],
   "source": [
    "# Missvalue.py\n",
    "# 数据预处理1：  随机森林处理缺失值。\n",
    "import pandas as pd\n",
    "import matplotlib.pyplot as plt #导入图像库\n",
    "from sklearn.ensemble import RandomForestRegressor\n",
    " \n",
    "# 用随机森林对缺失值预测填充函数\n",
    "def set_missing(df):\n",
    "    # 把已有的数值型特征取出来\n",
    "    process_df = df.iloc[:,[5,0,1,2,3,4,6,7,8,9]]\n",
    "    # 分成已知该特征和未知该特征两部分\n",
    "    known = np.array(process_df[process_df.MonthlyIncome.notnull()])\n",
    "    unknown =np.array( process_df[process_df.MonthlyIncome.isnull()])\n",
    "    # X为特征属性值\n",
    "    X = known[:, 1:]\n",
    "    # y为结果标签值\n",
    "    y = known[:, 0]\n",
    "    # fit到RandomForestRegressor之中\n",
    "    rfr = RandomForestRegressor(random_state=0, n_estimators=200,max_depth=3)\n",
    "    rfr.fit(X, y)\n",
    "    # 用得到的模型进行未知特征值预测\n",
    "    unknown=pd.DataFrame(unknown)\n",
    "    unknown=unknown.fillna(value=pd.DataFrame(known).mean())\n",
    "    unknown=np.array(unknown)\n",
    "    predicted = rfr.predict(unknown[:, 1:]).round(0)\n",
    "    print(predicted)\n",
    "    # 用得到的预测结果填补原缺失数据\n",
    "    df.loc[(df.MonthlyIncome.isnull()), 'MonthlyIncome'] = predicted\n",
    "    return df"
   ]
  },
  {
   "cell_type": "code",
   "execution_count": 6,
   "id": "a6bf3eed-791f-45b1-a061-d8a8a5286718",
   "metadata": {},
   "outputs": [
    {
     "name": "stdout",
     "output_type": "stream",
     "text": [
      "[0. 0. 0. ... 1. 1. 1.]\n"
     ]
    }
   ],
   "source": [
    "if __name__ == '__main__':\n",
    "       # 数据集缺失和分布情况\n",
    "    data=set_missing(data)  # 用随机森林填补比较多的缺失值\n",
    "    data=data.dropna()  # 删除比较少的缺失值\n",
    "    data = data.drop_duplicates()  # 删除重复项\n",
    "    data.to_csv('MissingData.csv', index=False)\n",
    "    data.describe().to_csv('MissingDataDescribe.csv')"
   ]
  },
  {
   "cell_type": "code",
   "execution_count": 7,
   "id": "e484d02a-c016-4464-8384-c70d3a44c41f",
   "metadata": {},
   "outputs": [
    {
     "data": {
      "image/png": "[encoded data removed]",
      "text/plain": [
       "<Figure size 432x288 with 1 Axes>"
      ]
     },
     "metadata": {
      "needs_background": "light"
     },
     "output_type": "display_data"
    }
   ],
   "source": [
    "# 箱形图\n",
    "data379=data[[\"age\",'NumberOfTime30-59DaysPastDueNotWorse','NumberOfTimes90DaysLate','NumberOfTime60-89DaysPastDueNotWorse']]\n",
    "data379.boxplot(labels=[\"age\",'NumberOfTime30-59DaysPastDueNotWorse','NumberOfTimes90DaysLate','NumberOfTime60-89DaysPastDueNotWorse'])\n",
    "plt.xticks(rotation=30)\n",
    "plt.show()"
   ]
  },
  {
   "cell_type": "code",
   "execution_count": 8,
   "id": "a226db66-d61a-4957-9b38-4acee46334ee",
   "metadata": {},
   "outputs": [],
   "source": [
    "if __name__ == '__main__':\n",
    "    # 年龄等于0的异常值进行剔除\n",
    "    data = data[data['age'] > 0]\n",
    "    data = data[data['NumberOfTime30-59DaysPastDueNotWorse'] < 90] # 剔除异常值\n",
    "    Y = 1-data['SeriousDlqin2yrs']\n",
    "    X = data.iloc[:, 2:]"
   ]
  },
  {
   "cell_type": "code",
   "execution_count": 9,
   "id": "1259c668-e541-4500-af8a-408235e232f2",
   "metadata": {},
   "outputs": [
    {
     "data": {
      "image/png": "[encoded data removed]",
      "text/plain": [
       "<Figure size 432x288 with 1 Axes>"
      ]
     },
     "metadata": {
      "needs_background": "light"
     },
     "output_type": "display_data"
    }
   ],
   "source": [
    "data379 = data[[\"age\",'NumberOfTime30-59DaysPastDueNotWorse', 'NumberOfTimes90DaysLate', 'NumberOfTime60-89DaysPastDueNotWorse']]\n",
    "data379.boxplot()\n",
    "plt.xticks(rotation=30)\n",
    "plt.show()\n",
    "data.to_csv('PretreatmentData.csv') "
   ]
  },
  {
   "cell_type": "code",
   "execution_count": 10,
   "id": "d995e6ba-3669-47e1-9f81-31c6e230786a",
   "metadata": {},
   "outputs": [],
   "source": [
    "import sklearn \n",
    "from sklearn.model_selection import train_test_split"
   ]
  },
  {
   "cell_type": "code",
   "execution_count": 11,
   "id": "7aa5c736-ef90-4fe6-881f-3548a6d49344",
   "metadata": {},
   "outputs": [
    {
     "name": "stdout",
     "output_type": "stream",
     "text": [
      "11225     1\n",
      "72603     1\n",
      "145581    1\n",
      "84443     1\n",
      "70926     1\n",
      "         ..\n",
      "43226     1\n",
      "100433    1\n",
      "98687     1\n",
      "121319    1\n",
      "44837     1\n",
      "Name: SeriousDlqin2yrs, Length: 102085, dtype: int64\n"
     ]
    }
   ],
   "source": [
    "X_train, X_test, Y_train, Y_test = train_test_split(X, Y, test_size=0.3, random_state=0)\n",
    "print(Y_train)\n",
    "train = pd.concat([Y_train, X_train], axis=1)#concat是合并函数\n",
    "test = pd.concat([Y_test, X_test], axis=1)"
   ]
  },
  {
   "cell_type": "code",
   "execution_count": 12,
   "id": "4b63c2ac-9457-4e1b-a0eb-3afe9d5134bc",
   "metadata": {},
   "outputs": [
    {
     "name": "stdout",
     "output_type": "stream",
     "text": [
      "(102085, 11)\n",
      "(43752, 11)\n"
     ]
    }
   ],
   "source": [
    "train.to_csv('TrainData.csv',index=False)\n",
    "test.to_csv('TestData.csv',index=False)\n",
    "print(train.shape)\n",
    "print(test.shape)"
   ]
  },
  {
   "cell_type": "code",
   "execution_count": 13,
   "id": "1cbbf044-45c7-41ab-8ab6-e797f16e339c",
   "metadata": {},
   "outputs": [
    {
     "name": "stdout",
     "output_type": "stream",
     "text": [
      "<class 'pandas.core.frame.DataFrame'>\n",
      "Int64Index: 43752 entries, 55947 to 81365\n",
      "Data columns (total 11 columns):\n",
      " #   Column                                Non-Null Count  Dtype  \n",
      "---  ------                                --------------  -----  \n",
      " 0   SeriousDlqin2yrs                      43752 non-null  int64  \n",
      " 1   RevolvingUtilizationOfUnsecuredLines  43752 non-null  float64\n",
      " 2   age                                   43752 non-null  int64  \n",
      " 3   NumberOfTime30-59DaysPastDueNotWorse  43752 non-null  int64  \n",
      " 4   DebtRatio                             43752 non-null  float64\n",
      " 5   MonthlyIncome                         43752 non-null  float64\n",
      " 6   NumberOfOpenCreditLinesAndLoans       43752 non-null  int64  \n",
      " 7   NumberOfTimes90DaysLate               43752 non-null  int64  \n",
      " 8   NumberRealEstateLoansOrLines          43752 non-null  int64  \n",
      " 9   NumberOfTime60-89DaysPastDueNotWorse  43752 non-null  int64  \n",
      " 10  NumberOfDependents                    43752 non-null  float64\n",
      "dtypes: float64(4), int64(7)\n",
      "memory usage: 4.0 MB\n"
     ]
    }
   ],
   "source": [
    "test.info()"
   ]
  },
  {
   "cell_type": "code",
   "execution_count": 15,
   "id": "e4fc0aeb-1ea1-4034-b628-b5c80f6367ad",
   "metadata": {},
   "outputs": [
    {
     "data": {
      "text/plain": [
       "(0.0, 10000.0)"
      ]
     },
     "execution_count": 15,
     "metadata": {},
     "output_type": "execute_result"
    },
    {
     "data": {
      "image/png": "[encoded data removed]",
      "text/plain": [
       "<Figure size 432x288 with 1 Axes>"
      ]
     },
     "metadata": {
      "needs_background": "light"
     },
     "output_type": "display_data"
    }
   ],
   "source": [
    "train[\"MonthlyIncome\"].hist(bins=70)\n",
    "plt.ylim(0,10000)"
   ]
  },
  {
   "cell_type": "code",
   "execution_count": null,
   "id": "8293960b-2640-4b26-8477-2a137a470e5c",
   "metadata": {},
   "outputs": [
    {
     "data": {
      "text/plain": [
       "(0.0, 10.0)"
      ]
     },
     "execution_count": 120,
     "metadata": {},
     "output_type": "execute_result"
    }
   ],
   "source": [
    "train[\"DebtRatio\"].hist(bins=600000)\n",
    "plt.xlim(0,10)"
   ]
  },
  {
   "cell_type": "code",
   "execution_count": 22,
   "id": "62a3cd93-3bdf-493b-b863-e396326897e7",
   "metadata": {},
   "outputs": [
    {
     "data": {
      "text/plain": [
       "(0.0, 100.0)"
      ]
     },
     "execution_count": 22,
     "metadata": {},
     "output_type": "execute_result"
    },
    {
     "data": {
      "image/png": "[encoded data removed]",
      "text/plain": [
       "<Figure size 432x288 with 1 Axes>"
      ]
     },
     "metadata": {
      "needs_background": "light"
     },
     "output_type": "display_data"
    }
   ],
   "source": [
    "train[\"age\"].hist(bins=100)\n",
    "plt.xlim(0,100)"
   ]
  },
  {
   "cell_type": "code",
   "execution_count": 14,
   "id": "a3f6ffcb-5705-4167-bbd6-ca6a9cf0c047",
   "metadata": {},
   "outputs": [],
   "source": [
    "data=data.iloc[:,1:]"
   ]
  },
  {
   "cell_type": "code",
   "execution_count": 15,
   "id": "762e1d07-47f3-4b3e-ac4d-4d81ccbe3537",
   "metadata": {},
   "outputs": [
    {
     "data": {
      "image/png": "[encoded data removed]",
      "text/plain": [
       "<Figure size 432x288 with 2 Axes>"
      ]
     },
     "metadata": {
      "needs_background": "light"
     },
     "output_type": "display_data"
    }
   ],
   "source": [
    "# part\n",
    "import seaborn as sns\n",
    "corr = data.corr()#计算各变量的相关性系数\n",
    "xticks = ['x0','x1','x2','x3','x4','x5','x6','x7','x8','x9','x10']#x轴标签\n",
    "yticks = list(corr.index)#y轴标签\n",
    "fig = plt.figure()\n",
    "ax1 = fig.add_subplot(1, 1, 1)\n",
    "sns.heatmap(corr, annot=True, cmap='rainbow', ax=ax1, annot_kws={'size': 9, 'weight': 'bold', 'color': 'blue'})#绘制相关性系数热力图\n",
    "ax1.set_xticklabels(xticks, rotation=0, fontsize=10)\n",
    "ax1.set_yticklabels(yticks, rotation=0, fontsize=10)\n",
    "plt.show()"
   ]
  },
  {
   "cell_type": "code",
   "execution_count": 16,
   "id": "3a92b236-d560-4ea7-9569-ce4761992795",
   "metadata": {},
   "outputs": [],
   "source": [
    "# part\n",
    "# 定义自动分箱函数\n",
    "import scipy\n",
    "def mono_bin1(Y, X, n = 20):\n",
    "    r = 0\n",
    "    good=Y.sum()\n",
    "    bad=Y.count()-good\n",
    "    while np.abs(r) < 1:\n",
    "        d1 = pd.DataFrame({\"X\": X, \"Y\": Y, \"Bucket\": pd.qcut(X, n,duplicates='drop')})\n",
    "        d2 = d1.groupby('Bucket', as_index = True)\n",
    "        r, p = scipy.stats.spearmanr(d2.mean().X, d2.mean().Y)\n",
    "        n = n - 1\n",
    "    d3 = pd.DataFrame(d2.X.min(), columns = ['min'])\n",
    "    d3['min']=d2.min().X\n",
    "    d3['max'] = d2.max().X\n",
    "    d3['sum'] = d2.sum().Y\n",
    "    d3['total'] = d2.count().Y\n",
    "    d3['rate'] = d2.mean().Y\n",
    "    d3['woe']=np.log((d3['rate']/(1-d3['rate']))/(good/bad))\n",
    "    d3['goodattribute']=d3['sum']/good\n",
    "    d3['badattribute']=(d3['total']-d3['sum'])/bad\n",
    "    iv=((d3['goodattribute']-d3['badattribute'])*d3['woe']).sum()\n",
    "    d4 = (d3.sort_index()).reset_index(drop=True)\n",
    "    print(\"=\" * 60)\n",
    "    print(d4)\n",
    "    cut=[]\n",
    "    cut.append(float('-inf'))\n",
    "    for i in range(1,n+1):\n",
    "        qua=X.quantile(i/(n+1))\n",
    "        cut.append(round(qua,4))\n",
    "    cut.append(float('inf'))\n",
    "    woe=list(d4['woe'].round(3))\n",
    "    return d4,iv,cut,woe"
   ]
  },
  {
   "cell_type": "code",
   "execution_count": 17,
   "id": "b1a6cb08-1243-49c1-8e3e-363a32429bb1",
   "metadata": {},
   "outputs": [],
   "source": [
    "def self_bin(Y,X,cat):\n",
    "    good=Y.sum()\n",
    "    bad=Y.count()-good\n",
    "    d1=pd.DataFrame({'X':X,'Y':Y,'Bucket':pd.cut(X,cat)})\n",
    "    d2=d1.groupby('Bucket', as_index = True)\n",
    "    d3 = pd.DataFrame(d2.X.min(), columns=['min'])\n",
    "    d3['min'] = d2.min().X\n",
    "    d3['max'] = d2.max().X\n",
    "    d3['sum'] = d2.sum().Y\n",
    "    d3['total'] = d2.count().Y\n",
    "    d3['rate'] = d2.mean().Y\n",
    "    d3['woe'] = np.log((d3['rate'] / (1 - d3['rate'])) / (good / bad))\n",
    "    d3['goodattribute'] = d3['sum'] / good\n",
    "    d3['badattribute'] = (d3['total'] - d3['sum']) / bad\n",
    "    iv = ((d3['goodattribute'] - d3['badattribute']) * d3['woe']).sum()\n",
    "    d4 = (d3.sort_index())\n",
    "    print(\"=\" * 60)\n",
    "    print(d4)\n",
    "    woe = list(d4['woe'].round(3))\n",
    "    return d4, iv,woe"
   ]
  },
  {
   "cell_type": "code",
   "execution_count": 18,
   "id": "871ee8fb-7af8-4df8-8b76-2f1f40aeaabd",
   "metadata": {},
   "outputs": [
    {
     "name": "stdout",
     "output_type": "stream",
     "text": [
      "============================================================\n",
      "        min           max    sum  total      rate       woe  goodattribute  \\\n",
      "0  0.000000      0.030932  25057  25522  0.981780  1.343766       0.262914   \n",
      "1  0.030940      0.159742  25023  25521  0.980487  1.273845       0.262557   \n",
      "2  0.159744      0.560195  24182  25521  0.947533  0.250580       0.253733   \n",
      "3  0.560236  29110.000000  21043  25521  0.824537 -1.095714       0.220796   \n",
      "\n",
      "   badattribute  \n",
      "0      0.068584  \n",
      "1      0.073451  \n",
      "2      0.197493  \n",
      "3      0.660472  \n",
      "============================================================\n",
      "   min  max    sum  total      rate       woe  goodattribute  badattribute\n",
      "0   21   33  10285  11559  0.889783 -0.554580       0.107917      0.187906\n",
      "1   34   40  11318  12486  0.906455 -0.372004       0.118756      0.172271\n",
      "2   41   45  10297  11255  0.914882 -0.268345       0.108043      0.141298\n",
      "3   46   49   9564  10399  0.919704 -0.204776       0.100352      0.123156\n",
      "4   50   54  11572  12496  0.926056 -0.115474       0.121421      0.136283\n",
      "5   55   59  11037  11675  0.945353  0.207565       0.115807      0.094100\n",
      "6   60   63   9165   9577  0.956980  0.459019       0.096165      0.060767\n",
      "7   64   71  11857  12195  0.972284  0.914523       0.124411      0.049853\n",
      "8   72  107  10210  10443  0.977688  1.136979       0.107130      0.034366\n",
      "============================================================\n",
      "        min            max    sum  total      rate       woe  goodattribute  \\\n",
      "0  0.000000       0.233938  32036  34029  0.941432  0.134114       0.336142   \n",
      "1  0.233953       0.542225  31940  34028  0.938639  0.084547       0.335135   \n",
      "2  0.542234  329664.000000  31329  34028  0.920683 -0.191442       0.328724   \n",
      "\n",
      "   badattribute  \n",
      "0      0.293953  \n",
      "1      0.307965  \n",
      "2      0.398083  \n",
      "============================================================\n",
      "   min        max    sum   total      rate           woe  goodattribute  \\\n",
      "0  0.0  1794060.0  95305  102085  0.933585 -8.881784e-16            1.0   \n",
      "\n",
      "   badattribute  \n",
      "0           1.0  \n"
     ]
    }
   ],
   "source": [
    "if __name__ == '__main__':\n",
    "    data = pd.read_csv('TrainData.csv')\n",
    "    pinf = float('inf')  # 正无穷大\n",
    "    ninf = float('-inf')  # 负无穷大\n",
    "    dfx1, ivx1,cutx1,woex1=mono_bin1(data.SeriousDlqin2yrs,data.RevolvingUtilizationOfUnsecuredLines,n=10)\n",
    "    dfx2, ivx2,cutx2,woex2=mono_bin1(data.SeriousDlqin2yrs, data.age, n=10)\n",
    "    dfx4, ivx4,cutx4,woex4 =mono_bin1(data.SeriousDlqin2yrs, data.DebtRatio, n=20)\n",
    "    dfx5, ivx5,cutx5,woex5 =mono_bin1(data.SeriousDlqin2yrs, data.MonthlyIncome, n=10)\n",
    "    # 连续变量离散化\n",
    "    cutx3 = [ninf, 0, 1, 3, 5, pinf]\n",
    "    cutx6 = [ninf, 1, 2, 3, 5, pinf]\n",
    "    cutx7 = [ninf, 0, 1, 3, 5, pinf]\n",
    "    cutx8 = [ninf, 0,1,2, 3, pinf]\n",
    "    cutx9 = [ninf, 0, 1, 3, pinf]\n",
    "    cutx10 = [ninf, 0, 1, 2, 3, 5, pinf]"
   ]
  },
  {
   "cell_type": "code",
   "execution_count": 19,
   "id": "28fe8acb-edcd-44d5-8d99-e01092b94ce0",
   "metadata": {},
   "outputs": [
    {
     "name": "stdout",
     "output_type": "stream",
     "text": [
      "============================================================\n",
      "             min  max    sum  total      rate       woe  goodattribute  \\\n",
      "Bucket                                                                   \n",
      "(-inf, 0.0]    0    0  82390  85834  0.959876  0.531725       0.864488   \n",
      "(0.0, 1.0]     1    1   9317  10974  0.849007 -0.916273       0.097760   \n",
      "(1.0, 3.0]     2    3   3099   4359  0.710943 -1.743137       0.032517   \n",
      "(3.0, 5.0]     4    5    417    749  0.556742 -2.415154       0.004375   \n",
      "(5.0, inf]     6   13     82    169  0.485207 -2.702294       0.000860   \n",
      "\n",
      "             badattribute  \n",
      "Bucket                     \n",
      "(-inf, 0.0]      0.507965  \n",
      "(0.0, 1.0]       0.244395  \n",
      "(1.0, 3.0]       0.185841  \n",
      "(3.0, 5.0]       0.048968  \n",
      "(5.0, inf]       0.012832  \n",
      "============================================================\n",
      "             min  max    sum  total      rate       woe  goodattribute  \\\n",
      "Bucket                                                                   \n",
      "(-inf, 1.0]    0    1   3373   3986  0.846212 -0.937912       0.035392   \n",
      "(1.0, 2.0]     2    2   3972   4387  0.905402 -0.384359       0.041677   \n",
      "(2.0, 3.0]     3    3   5526   6002  0.920693 -0.191304       0.057982   \n",
      "(3.0, 5.0]     4    5  15412  16469  0.935819  0.036607       0.161712   \n",
      "(5.0, inf]     6   58  67022  71241  0.940778  0.122318       0.703237   \n",
      "\n",
      "             badattribute  \n",
      "Bucket                     \n",
      "(-inf, 1.0]      0.090413  \n",
      "(1.0, 2.0]       0.061209  \n",
      "(2.0, 3.0]       0.070206  \n",
      "(3.0, 5.0]       0.155900  \n",
      "(5.0, inf]       0.622271  \n",
      "============================================================\n",
      "             min  max    sum  total      rate       woe  goodattribute  \\\n",
      "Bucket                                                                   \n",
      "(-inf, 0.0]    0    0  91990  96510  0.953165  0.370063       0.965217   \n",
      "(0.0, 1.0]     1    1   2427   3622  0.670072 -1.934595       0.025466   \n",
      "(1.0, 3.0]     2    3    746   1547  0.482224 -2.714241       0.007828   \n",
      "(3.0, 5.0]     4    5     99    282  0.351064 -3.257471       0.001039   \n",
      "(5.0, inf]     6   17     43    124  0.346774 -3.276354       0.000451   \n",
      "\n",
      "             badattribute  \n",
      "Bucket                     \n",
      "(-inf, 0.0]      0.666667  \n",
      "(0.0, 1.0]       0.176254  \n",
      "(1.0, 3.0]       0.118142  \n",
      "(3.0, 5.0]       0.026991  \n",
      "(5.0, inf]       0.011947  \n",
      "============================================================\n",
      "             min  max    sum  total      rate       woe  goodattribute  \\\n",
      "Bucket                                                                   \n",
      "(-inf, 0.0]    0    0  34509  37597  0.917866 -0.229409       0.362090   \n",
      "(0.0, 1.0]     1    1  33843  35746  0.946763  0.235195       0.355102   \n",
      "(1.0, 2.0]     2    2  20643  21849  0.944803  0.196962       0.216599   \n",
      "(2.0, 3.0]     3    3   4084   4382  0.931995 -0.025366       0.042852   \n",
      "(3.0, inf]     4   54   2226   2511  0.886499 -0.587633       0.023357   \n",
      "\n",
      "             badattribute  \n",
      "Bucket                     \n",
      "(-inf, 0.0]      0.455457  \n",
      "(0.0, 1.0]       0.280678  \n",
      "(1.0, 2.0]       0.177876  \n",
      "(2.0, 3.0]       0.043953  \n",
      "(3.0, inf]       0.042035  \n",
      "============================================================\n",
      "             min  max    sum  total      rate       woe  goodattribute  \\\n",
      "Bucket                                                                   \n",
      "(-inf, 0.0]    0    0  92024  97015  0.948554  0.271308       0.965574   \n",
      "(0.0, 1.0]     1    1   2767   3976  0.695926 -1.815135       0.029033   \n",
      "(1.0, 3.0]     2    3    471    975  0.483077 -2.710823       0.004942   \n",
      "(3.0, inf]     4   11     43    119  0.361345 -3.212638       0.000451   \n",
      "\n",
      "             badattribute  \n",
      "Bucket                     \n",
      "(-inf, 0.0]      0.736136  \n",
      "(0.0, 1.0]       0.178319  \n",
      "(1.0, 3.0]       0.074336  \n",
      "(3.0, inf]       0.011209  \n",
      "============================================================\n",
      "             min   max    sum  total      rate       woe  goodattribute  \\\n",
      "Bucket                                                                    \n",
      "(-inf, 0.0]  0.0   0.0  57145  60567  0.943501  0.172262       0.599601   \n",
      "(0.0, 1.0]   1.0   1.0  17028  18401  0.925384 -0.125244       0.178668   \n",
      "(1.0, 2.0]   2.0   2.0  12548  13672  0.917788 -0.230438       0.131662   \n",
      "(2.0, 3.0]   3.0   3.0   6164   6746  0.913727 -0.283094       0.064677   \n",
      "(3.0, 5.0]   4.0   5.0   2264   2519  0.898769 -0.459480       0.023755   \n",
      "(5.0, inf]   6.0  20.0    156    180  0.866667 -0.771303       0.001637   \n",
      "\n",
      "             badattribute  \n",
      "Bucket                     \n",
      "(-inf, 0.0]      0.504720  \n",
      "(0.0, 1.0]       0.202507  \n",
      "(1.0, 2.0]       0.165782  \n",
      "(2.0, 3.0]       0.085841  \n",
      "(3.0, 5.0]       0.037611  \n",
      "(5.0, inf]       0.003540  \n"
     ]
    },
    {
     "data": {
      "image/png": "[encoded data removed]",
      "text/plain": [
       "<Figure size 432x288 with 1 Axes>"
      ]
     },
     "metadata": {
      "needs_background": "light"
     },
     "output_type": "display_data"
    }
   ],
   "source": [
    "dfx3, ivx3,woex3 = self_bin(data.SeriousDlqin2yrs, data['NumberOfTime30-59DaysPastDueNotWorse'], cutx3)\n",
    "dfx6, ivx6 ,woex6= self_bin(data.SeriousDlqin2yrs, data['NumberOfOpenCreditLinesAndLoans'], cutx6)\n",
    "dfx7, ivx7,woex7 = self_bin(data.SeriousDlqin2yrs, data['NumberOfTimes90DaysLate'], cutx7)\n",
    "dfx8, ivx8,woex8 = self_bin(data.SeriousDlqin2yrs, data['NumberRealEstateLoansOrLines'], cutx8)\n",
    "dfx9, ivx9,woex9 = self_bin(data.SeriousDlqin2yrs, data['NumberOfTime60-89DaysPastDueNotWorse'], cutx9)\n",
    "dfx10, ivx10,woex10 = self_bin(data.SeriousDlqin2yrs, data['NumberOfDependents'], cutx10)\n",
    "ivlist=[ivx1,ivx2,ivx3,ivx4,ivx5,ivx6,ivx7,ivx8,ivx9,ivx10]\n",
    "index=['x1','x2','x3','x4','x5','x6','x7','x8','x9','x10']\n",
    "fig1 = plt.figure(1)\n",
    "ax1 = fig1.add_subplot(1, 1, 1)\n",
    "x = np.arange(len(index))+1\n",
    "ax1.bar(x, ivlist, width=0.4)\n",
    "ax1.set_xticks(x)\n",
    "ax1.set_xticklabels(index, rotation=0, fontsize=12)\n",
    "ax1.set_ylabel('IV(Information Value)', fontsize=14)\n",
    "for a, b in zip(x, ivlist):\n",
    "     plt.text(a, b + 0.01, '%.4f' % b, ha='center', va='bottom', fontsize=10)"
   ]
  },
  {
   "cell_type": "code",
   "execution_count": 20,
   "id": "b5656980-c35b-4690-8e63-5560b875fb21",
   "metadata": {},
   "outputs": [],
   "source": [
    "#替换成woe函数\n",
    "def replace_woe(series,cut,woe):\n",
    "    list=[]\n",
    "    i=0\n",
    "    while i<len(series):\n",
    "        value=series[i]\n",
    "        j=len(cut)-2\n",
    "        m=len(cut)-2\n",
    "        while j>=0:\n",
    "            if value>=cut[j]:\n",
    "                j=-1\n",
    "            else:\n",
    "                j -=1\n",
    "                m -= 1\n",
    "        list.append(woe[m])\n",
    "        i += 1\n",
    "    return list"
   ]
  },
  {
   "cell_type": "code",
   "execution_count": 21,
   "id": "f36664bc-3567-4c89-834a-8ba2314becca",
   "metadata": {},
   "outputs": [],
   "source": [
    "# 训练集的替换成woe\n",
    "data['RevolvingUtilizationOfUnsecuredLines'] = pd.Series(replace_woe(data['RevolvingUtilizationOfUnsecuredLines'], cutx1, woex1))\n",
    "data['age'] = pd.Series(replace_woe(data['age'], cutx2, woex2))\n",
    "data['NumberOfTime30-59DaysPastDueNotWorse'] = pd.Series(replace_woe(data['NumberOfTime30-59DaysPastDueNotWorse'], cutx3, woex3))\n",
    "data['DebtRatio'] = pd.Series(replace_woe(data['DebtRatio'], cutx4, woex4))\n",
    "data['MonthlyIncome'] = pd.Series(replace_woe(data['MonthlyIncome'], cutx5, woex5))\n",
    "data['NumberOfOpenCreditLinesAndLoans'] = pd.Series(replace_woe(data['NumberOfOpenCreditLinesAndLoans'], cutx6, woex6))\n",
    "data['NumberOfTimes90DaysLate'] = pd.Series(replace_woe(data['NumberOfTimes90DaysLate'], cutx7, woex7))\n",
    "data['NumberRealEstateLoansOrLines'] = pd.Series(replace_woe(data['NumberRealEstateLoansOrLines'], cutx8, woex8))\n",
    "data['NumberOfTime60-89DaysPastDueNotWorse'] = pd.Series(replace_woe(data['NumberOfTime60-89DaysPastDueNotWorse'], cutx9, woex9))\n",
    "data['NumberOfDependents'] = pd.Series(replace_woe(data['NumberOfDependents'], cutx10, woex10))\n",
    "data.to_csv('WoeData.csv', index=False)"
   ]
  },
  {
   "cell_type": "code",
   "execution_count": 22,
   "id": "93eeef4c-b8aa-44a4-ab44-9db986ac2a40",
   "metadata": {},
   "outputs": [
    {
     "name": "stdout",
     "output_type": "stream",
     "text": [
      "============================================================\n",
      "        min           max    sum  total      rate       woe  goodattribute  \\\n",
      "0  0.000000      0.030897  10724  10938  0.980435  1.280776       0.262714   \n",
      "1  0.030905      0.154505  10691  10938  0.977418  1.134282       0.261906   \n",
      "2  0.154524      0.560065  10427  10938  0.953282  0.382297       0.255439   \n",
      "3  0.560253  50708.000000   8978  10938  0.820808 -1.111655       0.219941   \n",
      "\n",
      "   badattribute  \n",
      "0      0.072988  \n",
      "1      0.084243  \n",
      "2      0.174284  \n",
      "3      0.668486  \n",
      "============================================================\n",
      "   min  max   sum  total      rate       woe  goodattribute  badattribute\n",
      "0   21   33  4347   4891  0.888775 -0.555195       0.106492      0.185539\n",
      "1   34   40  4783   5281  0.905700 -0.371264       0.117173      0.169850\n",
      "2   41   45  4403   4805  0.916337 -0.239898       0.107864      0.137108\n",
      "3   46   50  5132   5582  0.919384 -0.199484       0.125723      0.153479\n",
      "4   51   54  3908   4206  0.929149 -0.059800       0.095737      0.101637\n",
      "5   55   59  4754   5031  0.944941  0.209237       0.116463      0.094475\n",
      "6   60   64  4800   5018  0.956556  0.458389       0.117589      0.074352\n",
      "7   65   71  4393   4529  0.969971  0.841625       0.107619      0.046385\n",
      "8   72  103  4300   4409  0.975278  1.041535       0.105341      0.037176\n",
      "============================================================\n",
      "        min            max    sum  total      rate       woe  goodattribute  \\\n",
      "0  0.000000       0.235825  13732  14584  0.941580  0.146410       0.336404   \n",
      "1  0.235838       0.545293  13645  14584  0.935614  0.042826       0.334272   \n",
      "2  0.545423  168835.000000  13443  14584  0.921764 -0.166934       0.329324   \n",
      "\n",
      "   badattribute  \n",
      "0      0.290587  \n",
      "1      0.320259  \n",
      "2      0.389154  \n",
      "============================================================\n",
      "   min        max    sum  total      rate           woe  goodattribute  \\\n",
      "0  0.0  3008750.0  40820  43752  0.932986  2.220446e-16            1.0   \n",
      "\n",
      "   badattribute  \n",
      "0           1.0  \n"
     ]
    }
   ],
   "source": [
    "# 测试集分箱\n",
    "if __name__ == '__main__':\n",
    "    test = pd.read_csv('TestData.csv')\n",
    "    pinf = float('inf')  # 正无穷大\n",
    "    ninf = float('-inf')  # 负无穷大\n",
    "    tdfx1, tivx1,tcutx1,twoex1=mono_bin1(test.SeriousDlqin2yrs,test.RevolvingUtilizationOfUnsecuredLines,n=10)\n",
    "    tdfx2, tivx2,tcutx2,twoex2=mono_bin1(test.SeriousDlqin2yrs, test.age, n=10)\n",
    "    tdfx4, tivx4,tcutx4,twoex4 =mono_bin1(test.SeriousDlqin2yrs, test.DebtRatio, n=20)\n",
    "    tdfx5, tivx5,tcutx5,twoex5 =mono_bin1(test.SeriousDlqin2yrs, test.MonthlyIncome, n=10)\n",
    "    # 连续变量离散化\n",
    "    tcutx3 = [ninf, 0, 1, 3, 5, pinf]\n",
    "    tcutx6 = [ninf, 1, 2, 3, 5, pinf]\n",
    "    tcutx7 = [ninf, 0, 1, 3, 5, pinf]\n",
    "    tcutx8 = [ninf, 0,1,2, 3, pinf]\n",
    "    tcutx9 = [ninf, 0, 1, 3, pinf]\n",
    "    tcutx10 = [ninf, 0, 1, 2, 3, 5, pinf]"
   ]
  },
  {
   "cell_type": "code",
   "execution_count": 23,
   "id": "b1ec16b2-7f6b-451c-82cf-c886688a698f",
   "metadata": {},
   "outputs": [
    {
     "name": "stdout",
     "output_type": "stream",
     "text": [
      "============================================================\n",
      "             min  max    sum  total      rate       woe  goodattribute  \\\n",
      "Bucket                                                                   \n",
      "(-inf, 0.0]    0    0  35164  36669  0.958957  0.517743       0.861440   \n",
      "(0.0, 1.0]     1    1   4064   4770  0.851992 -0.883180       0.099559   \n",
      "(1.0, 3.0]     2    3   1368   1920  0.712500 -1.725930       0.033513   \n",
      "(3.0, 5.0]     4    5    189    326  0.579755 -2.311721       0.004630   \n",
      "(5.0, inf]     6   12     35     67  0.522388 -2.543875       0.000857   \n",
      "\n",
      "             badattribute  \n",
      "Bucket                     \n",
      "(-inf, 0.0]      0.513302  \n",
      "(0.0, 1.0]       0.240791  \n",
      "(1.0, 3.0]       0.188267  \n",
      "(3.0, 5.0]       0.046726  \n",
      "(5.0, inf]       0.010914  \n",
      "============================================================\n",
      "             min  max    sum  total      rate       woe  goodattribute  \\\n",
      "Bucket                                                                   \n",
      "(-inf, 1.0]    0    1   1334   1611  0.828057 -1.061568       0.032680   \n",
      "(1.0, 2.0]     2    2   1696   1866  0.908896 -0.333258       0.041548   \n",
      "(2.0, 3.0]     3    3   2381   2571  0.926099 -0.105236       0.058329   \n",
      "(3.0, 5.0]     4    5   6720   7203  0.932945 -0.000661       0.164625   \n",
      "(5.0, inf]     6   54  28689  30501  0.940592  0.128595       0.702817   \n",
      "\n",
      "             badattribute  \n",
      "Bucket                     \n",
      "(-inf, 1.0]      0.094475  \n",
      "(1.0, 2.0]       0.057981  \n",
      "(2.0, 3.0]       0.064802  \n",
      "(3.0, 5.0]       0.164734  \n",
      "(5.0, inf]       0.618008  \n",
      "============================================================\n",
      "             min  max    sum  total      rate       woe  goodattribute  \\\n",
      "Bucket                                                                   \n",
      "(-inf, 0.0]    0    0  39485  41411  0.953491  0.386988       0.967295   \n",
      "(0.0, 1.0]     1    1    979   1519  0.644503 -2.038525       0.023983   \n",
      "(1.0, 3.0]     2    3    295    631  0.467512 -2.763623       0.007227   \n",
      "(3.0, 5.0]     4    5     43    135  0.318519 -3.394076       0.001053   \n",
      "(5.0, inf]     6   13     18     56  0.321429 -3.380702       0.000441   \n",
      "\n",
      "             badattribute  \n",
      "Bucket                     \n",
      "(-inf, 0.0]      0.656889  \n",
      "(0.0, 1.0]       0.184175  \n",
      "(1.0, 3.0]       0.114598  \n",
      "(3.0, 5.0]       0.031378  \n",
      "(5.0, inf]       0.012960  \n",
      "============================================================\n",
      "             min  max    sum  total      rate       woe  goodattribute  \\\n",
      "Bucket                                                                   \n",
      "(-inf, 0.0]    0    0  14725  16058  0.916988 -0.231373       0.360730   \n",
      "(0.0, 1.0]     1    1  14634  15445  0.947491  0.259347       0.358501   \n",
      "(1.0, 2.0]     2    2   8767   9306  0.942080  0.155547       0.214772   \n",
      "(2.0, 3.0]     3    3   1728   1848  0.935065  0.033741       0.042332   \n",
      "(3.0, inf]     4   25    966   1095  0.882192 -0.620136       0.023665   \n",
      "\n",
      "             badattribute  \n",
      "Bucket                     \n",
      "(-inf, 0.0]      0.454638  \n",
      "(0.0, 1.0]       0.276603  \n",
      "(1.0, 2.0]       0.183834  \n",
      "(2.0, 3.0]       0.040928  \n",
      "(3.0, inf]       0.043997  \n",
      "============================================================\n",
      "             min  max    sum  total      rate       woe  goodattribute  \\\n",
      "Bucket                                                                   \n",
      "(-inf, 0.0]    0    0  39446  41595  0.948335  0.276443       0.966340   \n",
      "(0.0, 1.0]     1    1   1138   1671  0.681029 -1.874981       0.027878   \n",
      "(1.0, 3.0]     2    3    217    440  0.493182 -2.660762       0.005316   \n",
      "(3.0, inf]     4    8     19     46  0.413043 -2.984885       0.000465   \n",
      "\n",
      "             badattribute  \n",
      "Bucket                     \n",
      "(-inf, 0.0]      0.732947  \n",
      "(0.0, 1.0]       0.181787  \n",
      "(1.0, 3.0]       0.076057  \n",
      "(3.0, inf]       0.009209  \n",
      "============================================================\n",
      "             min   max    sum  total      rate       woe  goodattribute  \\\n",
      "Bucket                                                                    \n",
      "(-inf, 0.0]  0.0   0.0  24577  26147  0.939955  0.117248       0.602082   \n",
      "(0.0, 1.0]   1.0   1.0   7344   7892  0.930563 -0.038124       0.179912   \n",
      "(1.0, 2.0]   2.0   2.0   5382   5829  0.923314 -0.145231       0.131847   \n",
      "(2.0, 3.0]   3.0   3.0   2482   2733  0.908160 -0.342120       0.060804   \n",
      "(3.0, 5.0]   4.0   5.0    977   1086  0.899632 -0.440349       0.023934   \n",
      "(5.0, inf]   6.0  10.0     58     65  0.892308 -0.518955       0.001421   \n",
      "\n",
      "             badattribute  \n",
      "Bucket                     \n",
      "(-inf, 0.0]      0.535471  \n",
      "(0.0, 1.0]       0.186903  \n",
      "(1.0, 2.0]       0.152456  \n",
      "(2.0, 3.0]       0.085607  \n",
      "(3.0, 5.0]       0.037176  \n",
      "(5.0, inf]       0.002387  \n"
     ]
    },
    {
     "data": {
      "image/png": "[encoded data removed]",
      "text/plain": [
       "<Figure size 432x288 with 1 Axes>"
      ]
     },
     "metadata": {
      "needs_background": "light"
     },
     "output_type": "display_data"
    }
   ],
   "source": [
    "tdfx3, tivx3,twoex3 = self_bin(test.SeriousDlqin2yrs, test['NumberOfTime30-59DaysPastDueNotWorse'], tcutx3)\n",
    "tdfx6, tivx6 ,twoex6= self_bin(test.SeriousDlqin2yrs, test['NumberOfOpenCreditLinesAndLoans'], tcutx6)\n",
    "tdfx7, tivx7,twoex7 = self_bin(test.SeriousDlqin2yrs, test['NumberOfTimes90DaysLate'], tcutx7)\n",
    "tdfx8, tivx8,twoex8 = self_bin(test.SeriousDlqin2yrs, test['NumberRealEstateLoansOrLines'], tcutx8)\n",
    "tdfx9, tivx9,twoex9 = self_bin(test.SeriousDlqin2yrs, test['NumberOfTime60-89DaysPastDueNotWorse'], tcutx9)\n",
    "tdfx10, tivx10,twoex10 = self_bin(test.SeriousDlqin2yrs,test['NumberOfDependents'], tcutx10)\n",
    "tivlist=[tivx1,tivx2,tivx3,tivx4,tivx5,tivx6,tivx7,tivx8,tivx9,tivx10]\n",
    "index=['x1','x2','x3','x4','x5','x6','x7','x8','x9','x10']\n",
    "fig1 = plt.figure(1)\n",
    "ax1 = fig1.add_subplot(1, 1, 1)\n",
    "x = np.arange(len(index))+1\n",
    "ax1.bar(x, tivlist, width=0.4)\n",
    "ax1.set_xticks(x)\n",
    "ax1.set_xticklabels(index, rotation=0, fontsize=12)\n",
    "ax1.set_ylabel('IV(Information Value)', fontsize=14)\n",
    "for a, b in zip(x, ivlist):\n",
    "     plt.text(a, b + 0.01, '%.4f' % b, ha='center', va='bottom', fontsize=10)"
   ]
  },
  {
   "cell_type": "code",
   "execution_count": 24,
   "id": "b12a3343-9621-4e12-bff9-52866c14d3bc",
   "metadata": {},
   "outputs": [],
   "source": [
    "#测试集的替换成woe\n",
    "test['RevolvingUtilizationOfUnsecuredLines'] = pd.Series(replace_woe(test['RevolvingUtilizationOfUnsecuredLines'], tcutx1, twoex1))\n",
    "test['age'] = pd.Series(replace_woe(test['age'], tcutx2, twoex2))\n",
    "test['NumberOfTime30-59DaysPastDueNotWorse'] = pd.Series(replace_woe(test['NumberOfTime30-59DaysPastDueNotWorse'], tcutx3, twoex3))\n",
    "test['DebtRatio'] = pd.Series(replace_woe(test['DebtRatio'], tcutx4, twoex4))\n",
    "test['MonthlyIncome'] = pd.Series(replace_woe(test['MonthlyIncome'], tcutx5, twoex5))\n",
    "test['NumberOfOpenCreditLinesAndLoans'] = pd.Series(replace_woe(test['NumberOfOpenCreditLinesAndLoans'], tcutx6, twoex6))\n",
    "test['NumberOfTimes90DaysLate'] = pd.Series(replace_woe(test['NumberOfTimes90DaysLate'], tcutx7, twoex7))\n",
    "test['NumberRealEstateLoansOrLines'] = pd.Series(replace_woe(test['NumberRealEstateLoansOrLines'], tcutx8, twoex8))\n",
    "test['NumberOfTime60-89DaysPastDueNotWorse'] = pd.Series(replace_woe(test['NumberOfTime60-89DaysPastDueNotWorse'], tcutx9, twoex9))\n",
    "test['NumberOfDependents'] = pd.Series(replace_woe(test['NumberOfDependents'], tcutx10, twoex10))\n",
    "test.to_csv('TestWoeData.csv', index=False)"
   ]
  },
  {
   "cell_type": "code",
   "execution_count": 25,
   "id": "8d1c2b4f-ac19-4740-9390-b21a4703f1c9",
   "metadata": {},
   "outputs": [],
   "source": [
    "import statsmodels.api as sm\n",
    "import statsmodels.formula.api as smf\n",
    "from statsmodels.stats.api import anova_lm\n",
    "import matplotlib.pyplot as plt\n",
    "import pandas as pd\n",
    "from patsy import dmatrices\n",
    "import itertools as it\n",
    "import random"
   ]
  },
  {
   "cell_type": "code",
   "execution_count": 26,
   "id": "497918dd-c33e-4b72-a395-4f511a7caa82",
   "metadata": {},
   "outputs": [
    {
     "name": "stdout",
     "output_type": "stream",
     "text": [
      "<class 'pandas.core.frame.DataFrame'>\n",
      "RangeIndex: 43752 entries, 0 to 43751\n",
      "Data columns (total 11 columns):\n",
      " #   Column                                Non-Null Count  Dtype  \n",
      "---  ------                                --------------  -----  \n",
      " 0   SeriousDlqin2yrs                      43752 non-null  int64  \n",
      " 1   RevolvingUtilizationOfUnsecuredLines  43752 non-null  float64\n",
      " 2   age                                   43752 non-null  float64\n",
      " 3   NumberOfTime30-59DaysPastDueNotWorse  43752 non-null  float64\n",
      " 4   DebtRatio                             43752 non-null  float64\n",
      " 5   MonthlyIncome                         43752 non-null  float64\n",
      " 6   NumberOfOpenCreditLinesAndLoans       43752 non-null  float64\n",
      " 7   NumberOfTimes90DaysLate               43752 non-null  float64\n",
      " 8   NumberRealEstateLoansOrLines          43752 non-null  float64\n",
      " 9   NumberOfTime60-89DaysPastDueNotWorse  43752 non-null  float64\n",
      " 10  NumberOfDependents                    43752 non-null  float64\n",
      "dtypes: float64(10), int64(1)\n",
      "memory usage: 3.7 MB\n"
     ]
    }
   ],
   "source": [
    "test.info()"
   ]
  },
  {
   "cell_type": "code",
   "execution_count": 27,
   "id": "95268287-811e-41bb-a978-1b15692dc406",
   "metadata": {},
   "outputs": [
    {
     "name": "stdout",
     "output_type": "stream",
     "text": [
      "Optimization terminated successfully.\n",
      "         Current function value: 0.224201\n",
      "         Iterations 8\n",
      "                           Logit Regression Results                           \n",
      "==============================================================================\n",
      "Dep. Variable:                      y   No. Observations:               102085\n",
      "Model:                          Logit   Df Residuals:                   102080\n",
      "Method:                           MLE   Df Model:                            4\n",
      "Date:                Fri, 24 Jun 2022   Pseudo R-squ.:                 0.08214\n",
      "Time:                        18:56:36   Log-Likelihood:                -22888.\n",
      "converged:                       True   LL-Null:                       -24936.\n",
      "Covariance Type:            nonrobust   LLR p-value:                     0.000\n",
      "==============================================================================\n",
      "                 coef    std err          z      P>|z|      [0.025      0.975]\n",
      "------------------------------------------------------------------------------\n",
      "x1             0.8644      0.014     62.920      0.000       0.837       0.891\n",
      "x2             0.5436      0.027     19.799      0.000       0.490       0.597\n",
      "x3             1.0329      0.028     36.530      0.000       0.977       1.088\n",
      "x4            -0.4929      0.045    -10.875      0.000      -0.582      -0.404\n",
      "x5            -1.4392      0.050    -29.029      0.000      -1.536      -1.342\n",
      "==============================================================================\n",
      "Optimization terminated successfully.\n",
      "         Current function value: 0.224201\n",
      "         Iterations 8\n"
     ]
    },
    {
     "data": {
      "text/plain": [
       "45785.182483817036"
      ]
     },
     "execution_count": 27,
     "metadata": {},
     "output_type": "execute_result"
    }
   ],
   "source": [
    "#机器学习\n",
    "data = pd.read_csv('WoeData.csv')\n",
    "\n",
    "df=data.drop(['DebtRatio','MonthlyIncome','NumberOfOpenCreditLinesAndLoans','NumberRealEstateLoansOrLines','NumberOfDependents'],axis=1)\n",
    "df.rename(columns={'NumberOfTime30-59DaysPastDueNotWorse':'NumberOfTimedays3059PastDueNotWorse'},inplace=True)\n",
    "df.rename(columns={'NumberOfTime60-89DaysPastDueNotWorse':'NumberOfTimedays6089PastDueNotWorse'},inplace=True)\n",
    "df.rename(columns={'SeriousDlqin2yrs':'y'},inplace=True)\n",
    "#应变量\n",
    "Y=df[\"y\"]\n",
    "#自变量，剔除对因变量影响不明显的变量\n",
    "X=df.drop(['y'],axis=1)\n",
    "X1=sm.add_constant(X)\n",
    "logit1=sm.Logit(np.array(Y),np.array(X))\n",
    "result1=logit1.fit()\n",
    "print(result1.summary())\n",
    "logit1.fit().aic#获取随机函数的AIC值"
   ]
  },
  {
   "cell_type": "code",
   "execution_count": 28,
   "id": "70c5d156-c1c7-477d-b016-3f667b1f28b5",
   "metadata": {},
   "outputs": [
    {
     "name": "stdout",
     "output_type": "stream",
     "text": [
      "Optimization terminated successfully.\n",
      "         Current function value: 0.224201\n",
      "         Iterations 8\n",
      "                           Logit Regression Results                           \n",
      "==============================================================================\n",
      "Dep. Variable:                      y   No. Observations:               102085\n",
      "Model:                          Logit   Df Residuals:                   102080\n",
      "Method:                           MLE   Df Model:                            4\n",
      "Date:                Fri, 24 Jun 2022   Pseudo R-squ.:                 0.08214\n",
      "Time:                        18:56:37   Log-Likelihood:                -22888.\n",
      "converged:                       True   LL-Null:                       -24936.\n",
      "Covariance Type:            nonrobust   LLR p-value:                     0.000\n",
      "==============================================================================\n",
      "                 coef    std err          z      P>|z|      [0.025      0.975]\n",
      "------------------------------------------------------------------------------\n",
      "x1             1.0329      0.028     36.530      0.000       0.977       1.088\n",
      "x2             0.5436      0.027     19.799      0.000       0.490       0.597\n",
      "x3            -1.4392      0.050    -29.029      0.000      -1.536      -1.342\n",
      "x4             0.8644      0.014     62.920      0.000       0.837       0.891\n",
      "x5            -0.4929      0.045    -10.875      0.000      -0.582      -0.404\n",
      "==============================================================================\n"
     ]
    }
   ],
   "source": [
    "X_train=np.array(df.loc[:,[\"NumberOfTimedays3059PastDueNotWorse\",\"age\",\"NumberOfTimedays6089PastDueNotWorse\",\"RevolvingUtilizationOfUnsecuredLines\",\"NumberOfTimes90DaysLate\"]])\n",
    "Y_train=np.array(df[\"y\"])\n",
    "lr=sm.Logit(Y_train,X_train)\n",
    "print(lr.fit().summary())"
   ]
  },
  {
   "cell_type": "code",
   "execution_count": 29,
   "id": "78d59865-11d9-4c31-b068-15b492b4f73f",
   "metadata": {},
   "outputs": [
    {
     "name": "stdout",
     "output_type": "stream",
     "text": [
      "Optimization terminated successfully.\n",
      "         Current function value: 0.224201\n",
      "         Iterations 8\n"
     ]
    },
    {
     "name": "stderr",
     "output_type": "stream",
     "text": [
      "D:\\anconda\\lib\\site-packages\\matplotlib\\backends\\backend_agg.py:238: RuntimeWarning: Glyph 20551 missing from current font.\n",
      "  font.set_text(s, 0.0, flags=flags)\n",
      "D:\\anconda\\lib\\site-packages\\matplotlib\\backends\\backend_agg.py:238: RuntimeWarning: Glyph 27491 missing from current font.\n",
      "  font.set_text(s, 0.0, flags=flags)\n",
      "D:\\anconda\\lib\\site-packages\\matplotlib\\backends\\backend_agg.py:238: RuntimeWarning: Glyph 29575 missing from current font.\n",
      "  font.set_text(s, 0.0, flags=flags)\n",
      "D:\\anconda\\lib\\site-packages\\matplotlib\\backends\\backend_agg.py:238: RuntimeWarning: Glyph 30495 missing from current font.\n",
      "  font.set_text(s, 0.0, flags=flags)\n",
      "D:\\anconda\\lib\\site-packages\\matplotlib\\backends\\backend_agg.py:201: RuntimeWarning: Glyph 20551 missing from current font.\n",
      "  font.set_text(s, 0, flags=flags)\n",
      "D:\\anconda\\lib\\site-packages\\matplotlib\\backends\\backend_agg.py:201: RuntimeWarning: Glyph 27491 missing from current font.\n",
      "  font.set_text(s, 0, flags=flags)\n",
      "D:\\anconda\\lib\\site-packages\\matplotlib\\backends\\backend_agg.py:201: RuntimeWarning: Glyph 29575 missing from current font.\n",
      "  font.set_text(s, 0, flags=flags)\n",
      "D:\\anconda\\lib\\site-packages\\matplotlib\\backends\\backend_agg.py:201: RuntimeWarning: Glyph 30495 missing from current font.\n",
      "  font.set_text(s, 0, flags=flags)\n"
     ]
    },
    {
     "data": {
      "image/png": "[encoded data removed]",
      "text/plain": [
       "<Figure size 432x288 with 1 Axes>"
      ]
     },
     "metadata": {
      "needs_background": "light"
     },
     "output_type": "display_data"
    }
   ],
   "source": [
    "from sklearn.metrics import roc_curve, auc\n",
    "resu = lr.fit().predict(X_train)\n",
    "\n",
    "#进行预测\n",
    "fpr, tpr, threshold = roc_curve(Y_train, resu)\n",
    "rocauc = auc(fpr, tpr)#计算AUC\n",
    "plt.plot(fpr, tpr, 'b', label='AUC = %0.2f' % rocauc)#生成ROC曲线\n",
    "plt.legend(loc='lower right')\n",
    "plt.plot([0, 1], [0, 1], 'r--')\n",
    "plt.xlim([0, 1])\n",
    "plt.ylim([0, 1])\n",
    "plt.ylabel('真正率')\n",
    "plt.xlabel('假正率')\n",
    "plt.show()"
   ]
  },
  {
   "cell_type": "code",
   "execution_count": 30,
   "id": "24ca5ae3-24f8-4ec2-9fbc-8b1ab4e3027b",
   "metadata": {},
   "outputs": [],
   "source": [
    "df1=pd.read_csv('TestWoeData.csv')"
   ]
  },
  {
   "cell_type": "code",
   "execution_count": 31,
   "id": "1e353461-83da-40aa-b62d-5a9cd65ee128",
   "metadata": {},
   "outputs": [],
   "source": [
    "df1.rename(columns={'NumberOfTime30-59DaysPastDueNotWorse':'NumberOfTimedays3059PastDueNotWorse'},inplace=True)\n",
    "df1.rename(columns={'NumberOfTime60-89DaysPastDueNotWorse':'NumberOfTimedays6089PastDueNotWorse'},inplace=True)"
   ]
  },
  {
   "cell_type": "code",
   "execution_count": 32,
   "id": "70554fe3-2630-4f2b-8a30-8251de1ab06f",
   "metadata": {},
   "outputs": [
    {
     "data": {
      "text/html": [
       "<div>\n",
       "<style scoped>\n",
       "    .dataframe tbody tr th:only-of-type {\n",
       "        vertical-align: middle;\n",
       "    }\n",
       "\n",
       "    .dataframe tbody tr th {\n",
       "        vertical-align: top;\n",
       "    }\n",
       "\n",
       "    .dataframe thead th {\n",
       "        text-align: right;\n",
       "    }\n",
       "</style>\n",
       "<table border=\"1\" class=\"dataframe\">\n",
       "  <thead>\n",
       "    <tr style=\"text-align: right;\">\n",
       "      <th></th>\n",
       "      <th>SeriousDlqin2yrs</th>\n",
       "      <th>RevolvingUtilizationOfUnsecuredLines</th>\n",
       "      <th>age</th>\n",
       "      <th>NumberOfTimedays3059PastDueNotWorse</th>\n",
       "      <th>DebtRatio</th>\n",
       "      <th>MonthlyIncome</th>\n",
       "      <th>NumberOfOpenCreditLinesAndLoans</th>\n",
       "      <th>NumberOfTimes90DaysLate</th>\n",
       "      <th>NumberRealEstateLoansOrLines</th>\n",
       "      <th>NumberOfTimedays6089PastDueNotWorse</th>\n",
       "      <th>NumberOfDependents</th>\n",
       "    </tr>\n",
       "  </thead>\n",
       "  <tbody>\n",
       "    <tr>\n",
       "      <th>0</th>\n",
       "      <td>1</td>\n",
       "      <td>1.281</td>\n",
       "      <td>0.209</td>\n",
       "      <td>-0.883</td>\n",
       "      <td>0.146</td>\n",
       "      <td>0.0</td>\n",
       "      <td>-0.001</td>\n",
       "      <td>-2.039</td>\n",
       "      <td>0.259</td>\n",
       "      <td>-1.875</td>\n",
       "      <td>-0.038</td>\n",
       "    </tr>\n",
       "    <tr>\n",
       "      <th>1</th>\n",
       "      <td>1</td>\n",
       "      <td>0.382</td>\n",
       "      <td>0.842</td>\n",
       "      <td>-0.883</td>\n",
       "      <td>0.043</td>\n",
       "      <td>0.0</td>\n",
       "      <td>0.129</td>\n",
       "      <td>-2.039</td>\n",
       "      <td>0.156</td>\n",
       "      <td>-1.875</td>\n",
       "      <td>-0.145</td>\n",
       "    </tr>\n",
       "    <tr>\n",
       "      <th>2</th>\n",
       "      <td>1</td>\n",
       "      <td>1.134</td>\n",
       "      <td>-0.555</td>\n",
       "      <td>-0.883</td>\n",
       "      <td>0.146</td>\n",
       "      <td>0.0</td>\n",
       "      <td>0.129</td>\n",
       "      <td>-2.039</td>\n",
       "      <td>0.259</td>\n",
       "      <td>-1.875</td>\n",
       "      <td>-0.342</td>\n",
       "    </tr>\n",
       "    <tr>\n",
       "      <th>3</th>\n",
       "      <td>1</td>\n",
       "      <td>-1.112</td>\n",
       "      <td>-0.240</td>\n",
       "      <td>-1.726</td>\n",
       "      <td>0.146</td>\n",
       "      <td>0.0</td>\n",
       "      <td>-1.062</td>\n",
       "      <td>-2.039</td>\n",
       "      <td>0.259</td>\n",
       "      <td>-1.875</td>\n",
       "      <td>-0.440</td>\n",
       "    </tr>\n",
       "    <tr>\n",
       "      <th>4</th>\n",
       "      <td>1</td>\n",
       "      <td>0.382</td>\n",
       "      <td>-0.060</td>\n",
       "      <td>-0.883</td>\n",
       "      <td>-0.167</td>\n",
       "      <td>0.0</td>\n",
       "      <td>0.129</td>\n",
       "      <td>-2.039</td>\n",
       "      <td>0.156</td>\n",
       "      <td>-1.875</td>\n",
       "      <td>-0.145</td>\n",
       "    </tr>\n",
       "    <tr>\n",
       "      <th>...</th>\n",
       "      <td>...</td>\n",
       "      <td>...</td>\n",
       "      <td>...</td>\n",
       "      <td>...</td>\n",
       "      <td>...</td>\n",
       "      <td>...</td>\n",
       "      <td>...</td>\n",
       "      <td>...</td>\n",
       "      <td>...</td>\n",
       "      <td>...</td>\n",
       "      <td>...</td>\n",
       "    </tr>\n",
       "    <tr>\n",
       "      <th>43747</th>\n",
       "      <td>1</td>\n",
       "      <td>1.134</td>\n",
       "      <td>0.458</td>\n",
       "      <td>-0.883</td>\n",
       "      <td>-0.167</td>\n",
       "      <td>0.0</td>\n",
       "      <td>0.129</td>\n",
       "      <td>-2.039</td>\n",
       "      <td>0.259</td>\n",
       "      <td>-1.875</td>\n",
       "      <td>-0.038</td>\n",
       "    </tr>\n",
       "    <tr>\n",
       "      <th>43748</th>\n",
       "      <td>1</td>\n",
       "      <td>1.281</td>\n",
       "      <td>0.842</td>\n",
       "      <td>-0.883</td>\n",
       "      <td>0.146</td>\n",
       "      <td>0.0</td>\n",
       "      <td>-0.001</td>\n",
       "      <td>-2.039</td>\n",
       "      <td>0.034</td>\n",
       "      <td>-1.875</td>\n",
       "      <td>-0.145</td>\n",
       "    </tr>\n",
       "    <tr>\n",
       "      <th>43749</th>\n",
       "      <td>1</td>\n",
       "      <td>-1.112</td>\n",
       "      <td>-0.199</td>\n",
       "      <td>-0.883</td>\n",
       "      <td>0.146</td>\n",
       "      <td>0.0</td>\n",
       "      <td>-0.001</td>\n",
       "      <td>-2.039</td>\n",
       "      <td>0.156</td>\n",
       "      <td>-1.875</td>\n",
       "      <td>-0.038</td>\n",
       "    </tr>\n",
       "    <tr>\n",
       "      <th>43750</th>\n",
       "      <td>1</td>\n",
       "      <td>1.134</td>\n",
       "      <td>-0.240</td>\n",
       "      <td>-0.883</td>\n",
       "      <td>-0.167</td>\n",
       "      <td>0.0</td>\n",
       "      <td>0.129</td>\n",
       "      <td>-2.039</td>\n",
       "      <td>0.034</td>\n",
       "      <td>-1.875</td>\n",
       "      <td>-0.342</td>\n",
       "    </tr>\n",
       "    <tr>\n",
       "      <th>43751</th>\n",
       "      <td>1</td>\n",
       "      <td>0.382</td>\n",
       "      <td>1.042</td>\n",
       "      <td>-0.883</td>\n",
       "      <td>-0.167</td>\n",
       "      <td>0.0</td>\n",
       "      <td>0.129</td>\n",
       "      <td>-2.039</td>\n",
       "      <td>0.259</td>\n",
       "      <td>-1.875</td>\n",
       "      <td>-0.038</td>\n",
       "    </tr>\n",
       "  </tbody>\n",
       "</table>\n",
       "<p>43752 rows × 11 columns</p>\n",
       "</div>"
      ],
      "text/plain": [
       "       SeriousDlqin2yrs  RevolvingUtilizationOfUnsecuredLines    age  \\\n",
       "0                     1                                 1.281  0.209   \n",
       "1                     1                                 0.382  0.842   \n",
       "2                     1                                 1.134 -0.555   \n",
       "3                     1                                -1.112 -0.240   \n",
       "4                     1                                 0.382 -0.060   \n",
       "...                 ...                                   ...    ...   \n",
       "43747                 1                                 1.134  0.458   \n",
       "43748                 1                                 1.281  0.842   \n",
       "43749                 1                                -1.112 -0.199   \n",
       "43750                 1                                 1.134 -0.240   \n",
       "43751                 1                                 0.382  1.042   \n",
       "\n",
       "       NumberOfTimedays3059PastDueNotWorse  DebtRatio  MonthlyIncome  \\\n",
       "0                                   -0.883      0.146            0.0   \n",
       "1                                   -0.883      0.043            0.0   \n",
       "2                                   -0.883      0.146            0.0   \n",
       "3                                   -1.726      0.146            0.0   \n",
       "4                                   -0.883     -0.167            0.0   \n",
       "...                                    ...        ...            ...   \n",
       "43747                               -0.883     -0.167            0.0   \n",
       "43748                               -0.883      0.146            0.0   \n",
       "43749                               -0.883      0.146            0.0   \n",
       "43750                               -0.883     -0.167            0.0   \n",
       "43751                               -0.883     -0.167            0.0   \n",
       "\n",
       "       NumberOfOpenCreditLinesAndLoans  NumberOfTimes90DaysLate  \\\n",
       "0                               -0.001                   -2.039   \n",
       "1                                0.129                   -2.039   \n",
       "2                                0.129                   -2.039   \n",
       "3                               -1.062                   -2.039   \n",
       "4                                0.129                   -2.039   \n",
       "...                                ...                      ...   \n",
       "43747                            0.129                   -2.039   \n",
       "43748                           -0.001                   -2.039   \n",
       "43749                           -0.001                   -2.039   \n",
       "43750                            0.129                   -2.039   \n",
       "43751                            0.129                   -2.039   \n",
       "\n",
       "       NumberRealEstateLoansOrLines  NumberOfTimedays6089PastDueNotWorse  \\\n",
       "0                             0.259                               -1.875   \n",
       "1                             0.156                               -1.875   \n",
       "2                             0.259                               -1.875   \n",
       "3                             0.259                               -1.875   \n",
       "4                             0.156                               -1.875   \n",
       "...                             ...                                  ...   \n",
       "43747                         0.259                               -1.875   \n",
       "43748                         0.034                               -1.875   \n",
       "43749                         0.156                               -1.875   \n",
       "43750                         0.034                               -1.875   \n",
       "43751                         0.259                               -1.875   \n",
       "\n",
       "       NumberOfDependents  \n",
       "0                  -0.038  \n",
       "1                  -0.145  \n",
       "2                  -0.342  \n",
       "3                  -0.440  \n",
       "4                  -0.145  \n",
       "...                   ...  \n",
       "43747              -0.038  \n",
       "43748              -0.145  \n",
       "43749              -0.038  \n",
       "43750              -0.342  \n",
       "43751              -0.038  \n",
       "\n",
       "[43752 rows x 11 columns]"
      ]
     },
     "execution_count": 32,
     "metadata": {},
     "output_type": "execute_result"
    }
   ],
   "source": [
    "df1"
   ]
  },
  {
   "cell_type": "code",
   "execution_count": 33,
   "id": "87e6f0d1-6e20-4a5d-a766-f4b42a139a28",
   "metadata": {},
   "outputs": [
    {
     "name": "stdout",
     "output_type": "stream",
     "text": [
      "Optimization terminated successfully.\n",
      "         Current function value: 0.223405\n",
      "         Iterations 8\n",
      "                           Logit Regression Results                           \n",
      "==============================================================================\n",
      "Dep. Variable:                      y   No. Observations:                43752\n",
      "Model:                          Logit   Df Residuals:                    43747\n",
      "Method:                           MLE   Df Model:                            4\n",
      "Date:                Fri, 24 Jun 2022   Pseudo R-squ.:                 0.09128\n",
      "Time:                        18:56:38   Log-Likelihood:                -9774.4\n",
      "converged:                       True   LL-Null:                       -10756.\n",
      "Covariance Type:            nonrobust   LLR p-value:                     0.000\n",
      "==============================================================================\n",
      "                 coef    std err          z      P>|z|      [0.025      0.975]\n",
      "------------------------------------------------------------------------------\n",
      "x1             1.0282      0.044     23.625      0.000       0.943       1.113\n",
      "x2             0.5116      0.044     11.519      0.000       0.425       0.599\n",
      "x3            -1.8419      0.080    -23.164      0.000      -1.998      -1.686\n",
      "x4             0.8588      0.021     41.084      0.000       0.818       0.900\n",
      "x5            -0.0551      0.071     -0.781      0.435      -0.193       0.083\n",
      "==============================================================================\n"
     ]
    }
   ],
   "source": [
    "X_test=np.array(df1.loc[:,[\"NumberOfTimedays3059PastDueNotWorse\",\"age\",\"NumberOfTimedays6089PastDueNotWorse\",\"RevolvingUtilizationOfUnsecuredLines\",\"NumberOfTimes90DaysLate\"]])\n",
    "Y_test=np.array(df1[\"SeriousDlqin2yrs\"])\n",
    "lr1=sm.Logit(Y_test,X_test)\n",
    "print(lr1.fit().summary())"
   ]
  },
  {
   "cell_type": "code",
   "execution_count": 34,
   "id": "6cdac807-1153-4c60-b5fb-77b14d92203f",
   "metadata": {},
   "outputs": [
    {
     "name": "stdout",
     "output_type": "stream",
     "text": [
      "Optimization terminated successfully.\n",
      "         Current function value: 0.223405\n",
      "         Iterations 8\n"
     ]
    },
    {
     "name": "stderr",
     "output_type": "stream",
     "text": [
      "D:\\anconda\\lib\\site-packages\\matplotlib\\backends\\backend_agg.py:238: RuntimeWarning: Glyph 20551 missing from current font.\n",
      "  font.set_text(s, 0.0, flags=flags)\n",
      "D:\\anconda\\lib\\site-packages\\matplotlib\\backends\\backend_agg.py:238: RuntimeWarning: Glyph 27491 missing from current font.\n",
      "  font.set_text(s, 0.0, flags=flags)\n",
      "D:\\anconda\\lib\\site-packages\\matplotlib\\backends\\backend_agg.py:238: RuntimeWarning: Glyph 29575 missing from current font.\n",
      "  font.set_text(s, 0.0, flags=flags)\n",
      "D:\\anconda\\lib\\site-packages\\matplotlib\\backends\\backend_agg.py:238: RuntimeWarning: Glyph 30495 missing from current font.\n",
      "  font.set_text(s, 0.0, flags=flags)\n",
      "D:\\anconda\\lib\\site-packages\\matplotlib\\backends\\backend_agg.py:201: RuntimeWarning: Glyph 20551 missing from current font.\n",
      "  font.set_text(s, 0, flags=flags)\n",
      "D:\\anconda\\lib\\site-packages\\matplotlib\\backends\\backend_agg.py:201: RuntimeWarning: Glyph 27491 missing from current font.\n",
      "  font.set_text(s, 0, flags=flags)\n",
      "D:\\anconda\\lib\\site-packages\\matplotlib\\backends\\backend_agg.py:201: RuntimeWarning: Glyph 29575 missing from current font.\n",
      "  font.set_text(s, 0, flags=flags)\n",
      "D:\\anconda\\lib\\site-packages\\matplotlib\\backends\\backend_agg.py:201: RuntimeWarning: Glyph 30495 missing from current font.\n",
      "  font.set_text(s, 0, flags=flags)\n"
     ]
    },
    {
     "data": {
      "image/png": "[encoded data removed]",
      "text/plain": [
       "<Figure size 432x288 with 1 Axes>"
      ]
     },
     "metadata": {
      "needs_background": "light"
     },
     "output_type": "display_data"
    }
   ],
   "source": [
    "from sklearn.metrics import roc_curve, auc\n",
    "resu1 = lr1.fit().predict(X_test)#进行预测\n",
    "\n",
    "fpr1, tpr1, threshold1 = roc_curve(Y_test, resu1)\n",
    "rocauc1 = auc(fpr1, tpr1)#计算AUC\n",
    "plt.plot(fpr1, tpr1, 'b', label='AUC = %0.2f' % rocauc1)#生成ROC曲线\n",
    "plt.legend(loc='lower right')\n",
    "plt.plot([0, 1], [0, 1], 'r--')\n",
    "plt.xlim([0, 1])\n",
    "plt.ylim([0, 1])\n",
    "plt.ylabel('真正率')\n",
    "plt.xlabel('假正率')\n",
    "plt.show()"
   ]
  },
  {
   "cell_type": "code",
   "execution_count": 48,
   "id": "1fa2dd8c-6c03-42d7-8f09-0046437a977b",
   "metadata": {},
   "outputs": [
    {
     "data": {
      "text/plain": [
       "RandomForestClassifier()"
      ]
     },
     "execution_count": 48,
     "metadata": {},
     "output_type": "execute_result"
    }
   ],
   "source": [
    "#随机森林挑选变量\n",
    "from sklearn.ensemble import RandomForestClassifier\n",
    "data = pd.read_csv('WoeData.csv')\n",
    "y = data['SeriousDlqin2yrs']\n",
    "x = data.drop('SeriousDlqin2yrs', axis=1)\n",
    "clf = RandomForestClassifier()\n",
    "clf.fit(x, y)"
   ]
  },
  {
   "cell_type": "code",
   "execution_count": 49,
   "id": "377d396e-c214-4d7c-a820-1b180ce59972",
   "metadata": {},
   "outputs": [
    {
     "name": "stdout",
     "output_type": "stream",
     "text": [
      " 1) RevolvingUtilizationOfUnsecuredLines 0.198039\n",
      " 2) age                            0.176896\n",
      " 3) NumberOfTime30-59DaysPastDueNotWorse 0.111758\n",
      " 4) DebtRatio                      0.103155\n",
      " 5) MonthlyIncome                  0.099044\n",
      " 6) NumberOfOpenCreditLinesAndLoans 0.093853\n",
      " 7) NumberOfTimes90DaysLate        0.081015\n",
      " 8) NumberRealEstateLoansOrLines   0.073399\n",
      " 9) NumberOfTime60-89DaysPastDueNotWorse 0.062841\n",
      "10) NumberOfDependents             0.000000\n"
     ]
    }
   ],
   "source": [
    "#随机森林挑选变量\n",
    "importance = clf.feature_importances_\n",
    "indices = np.argsort(importance)[::-1]\n",
    "features = x.columns\n",
    "for f in range(x.shape[1]):\n",
    "    print((\"%2d) %-*s %f\" % (f + 1, 30, features[f], importance[indices[f]])))"
   ]
  },
  {
   "cell_type": "code",
   "execution_count": 53,
   "id": "849ddfa9-79b1-4c82-be6b-ecf523d96649",
   "metadata": {},
   "outputs": [
    {
     "data": {
      "text/plain": [
       "Text(0.5, 1.0, 'Variable Importances')"
      ]
     },
     "execution_count": 53,
     "metadata": {},
     "output_type": "execute_result"
    },
    {
     "data": {
      "image/png": "[encoded data removed]",
      "text/plain": [
       "<Figure size 432x288 with 1 Axes>"
      ]
     },
     "metadata": {
      "needs_background": "light"
     },
     "output_type": "display_data"
    }
   ],
   "source": [
    "# Calculate the importance of variables\n",
    "\n",
    "random_forest_importance=list(importance)\n",
    "random_forest_feature_importance=sorted(random_forest_importance,reverse=True)\n",
    "plt.figure(3)\n",
    "plt.clf()\n",
    "importance_plot_x_values=list(range(len(random_forest_importance)))\n",
    "plt.bar(importance_plot_x_values,random_forest_importance,orientation='vertical')\n",
    "plt.xticks(importance_plot_x_values,rotation='vertical')\n",
    "plt.xlabel('Variable')\n",
    "plt.ylabel('Importance')\n",
    "plt.title('Variable Importances')"
   ]
  },
  {
   "cell_type": "code",
   "execution_count": 54,
   "id": "175f64b6-9b0b-4b1c-b9c9-56a2014e7f3d",
   "metadata": {},
   "outputs": [
    {
     "data": {
      "text/html": [
       "<div>\n",
       "<style scoped>\n",
       "    .dataframe tbody tr th:only-of-type {\n",
       "        vertical-align: middle;\n",
       "    }\n",
       "\n",
       "    .dataframe tbody tr th {\n",
       "        vertical-align: top;\n",
       "    }\n",
       "\n",
       "    .dataframe thead th {\n",
       "        text-align: right;\n",
       "    }\n",
       "</style>\n",
       "<table border=\"1\" class=\"dataframe\">\n",
       "  <thead>\n",
       "    <tr style=\"text-align: right;\">\n",
       "      <th></th>\n",
       "      <th>SeriousDlqin2yrs</th>\n",
       "      <th>RevolvingUtilizationOfUnsecuredLines</th>\n",
       "      <th>age</th>\n",
       "      <th>NumberOfTime30-59DaysPastDueNotWorse</th>\n",
       "      <th>DebtRatio</th>\n",
       "      <th>MonthlyIncome</th>\n",
       "      <th>NumberOfOpenCreditLinesAndLoans</th>\n",
       "      <th>NumberOfTimes90DaysLate</th>\n",
       "      <th>NumberRealEstateLoansOrLines</th>\n",
       "      <th>NumberOfTime60-89DaysPastDueNotWorse</th>\n",
       "      <th>NumberOfDependents</th>\n",
       "    </tr>\n",
       "  </thead>\n",
       "  <tbody>\n",
       "    <tr>\n",
       "      <th>0</th>\n",
       "      <td>1</td>\n",
       "      <td>-1.096</td>\n",
       "      <td>-0.205</td>\n",
       "      <td>-1.743</td>\n",
       "      <td>-0.191</td>\n",
       "      <td>-0.0</td>\n",
       "      <td>-0.384</td>\n",
       "      <td>-1.935</td>\n",
       "      <td>0.235</td>\n",
       "      <td>-1.815</td>\n",
       "      <td>-0.125</td>\n",
       "    </tr>\n",
       "    <tr>\n",
       "      <th>1</th>\n",
       "      <td>1</td>\n",
       "      <td>1.344</td>\n",
       "      <td>0.915</td>\n",
       "      <td>-0.916</td>\n",
       "      <td>0.134</td>\n",
       "      <td>-0.0</td>\n",
       "      <td>0.037</td>\n",
       "      <td>-1.935</td>\n",
       "      <td>0.197</td>\n",
       "      <td>-1.815</td>\n",
       "      <td>-0.125</td>\n",
       "    </tr>\n",
       "    <tr>\n",
       "      <th>2</th>\n",
       "      <td>1</td>\n",
       "      <td>0.251</td>\n",
       "      <td>0.459</td>\n",
       "      <td>-0.916</td>\n",
       "      <td>0.134</td>\n",
       "      <td>-0.0</td>\n",
       "      <td>0.122</td>\n",
       "      <td>-1.935</td>\n",
       "      <td>0.235</td>\n",
       "      <td>-1.815</td>\n",
       "      <td>-0.230</td>\n",
       "    </tr>\n",
       "    <tr>\n",
       "      <th>3</th>\n",
       "      <td>1</td>\n",
       "      <td>0.251</td>\n",
       "      <td>0.459</td>\n",
       "      <td>-0.916</td>\n",
       "      <td>-0.191</td>\n",
       "      <td>-0.0</td>\n",
       "      <td>0.122</td>\n",
       "      <td>-1.935</td>\n",
       "      <td>-0.025</td>\n",
       "      <td>-1.815</td>\n",
       "      <td>-0.283</td>\n",
       "    </tr>\n",
       "    <tr>\n",
       "      <th>4</th>\n",
       "      <td>1</td>\n",
       "      <td>1.274</td>\n",
       "      <td>0.915</td>\n",
       "      <td>-0.916</td>\n",
       "      <td>0.085</td>\n",
       "      <td>-0.0</td>\n",
       "      <td>0.122</td>\n",
       "      <td>-1.935</td>\n",
       "      <td>-0.025</td>\n",
       "      <td>-1.815</td>\n",
       "      <td>-0.125</td>\n",
       "    </tr>\n",
       "    <tr>\n",
       "      <th>...</th>\n",
       "      <td>...</td>\n",
       "      <td>...</td>\n",
       "      <td>...</td>\n",
       "      <td>...</td>\n",
       "      <td>...</td>\n",
       "      <td>...</td>\n",
       "      <td>...</td>\n",
       "      <td>...</td>\n",
       "      <td>...</td>\n",
       "      <td>...</td>\n",
       "      <td>...</td>\n",
       "    </tr>\n",
       "    <tr>\n",
       "      <th>102080</th>\n",
       "      <td>1</td>\n",
       "      <td>-1.096</td>\n",
       "      <td>-0.205</td>\n",
       "      <td>-0.916</td>\n",
       "      <td>0.085</td>\n",
       "      <td>-0.0</td>\n",
       "      <td>0.122</td>\n",
       "      <td>-1.935</td>\n",
       "      <td>-0.588</td>\n",
       "      <td>-1.815</td>\n",
       "      <td>-0.283</td>\n",
       "    </tr>\n",
       "    <tr>\n",
       "      <th>102081</th>\n",
       "      <td>1</td>\n",
       "      <td>1.274</td>\n",
       "      <td>-0.268</td>\n",
       "      <td>-0.916</td>\n",
       "      <td>0.085</td>\n",
       "      <td>-0.0</td>\n",
       "      <td>0.122</td>\n",
       "      <td>-1.935</td>\n",
       "      <td>-0.025</td>\n",
       "      <td>-1.815</td>\n",
       "      <td>-0.230</td>\n",
       "    </tr>\n",
       "    <tr>\n",
       "      <th>102082</th>\n",
       "      <td>1</td>\n",
       "      <td>1.274</td>\n",
       "      <td>1.137</td>\n",
       "      <td>-0.916</td>\n",
       "      <td>-0.191</td>\n",
       "      <td>-0.0</td>\n",
       "      <td>0.122</td>\n",
       "      <td>-1.935</td>\n",
       "      <td>-0.588</td>\n",
       "      <td>-1.815</td>\n",
       "      <td>-0.230</td>\n",
       "    </tr>\n",
       "    <tr>\n",
       "      <th>102083</th>\n",
       "      <td>1</td>\n",
       "      <td>1.344</td>\n",
       "      <td>0.915</td>\n",
       "      <td>-0.916</td>\n",
       "      <td>0.134</td>\n",
       "      <td>-0.0</td>\n",
       "      <td>0.122</td>\n",
       "      <td>-1.935</td>\n",
       "      <td>0.235</td>\n",
       "      <td>-1.815</td>\n",
       "      <td>-0.230</td>\n",
       "    </tr>\n",
       "    <tr>\n",
       "      <th>102084</th>\n",
       "      <td>1</td>\n",
       "      <td>1.344</td>\n",
       "      <td>0.915</td>\n",
       "      <td>-0.916</td>\n",
       "      <td>-0.191</td>\n",
       "      <td>-0.0</td>\n",
       "      <td>0.122</td>\n",
       "      <td>-1.935</td>\n",
       "      <td>-0.025</td>\n",
       "      <td>-1.815</td>\n",
       "      <td>-0.125</td>\n",
       "    </tr>\n",
       "  </tbody>\n",
       "</table>\n",
       "<p>102085 rows × 11 columns</p>\n",
       "</div>"
      ],
      "text/plain": [
       "        SeriousDlqin2yrs  RevolvingUtilizationOfUnsecuredLines    age  \\\n",
       "0                      1                                -1.096 -0.205   \n",
       "1                      1                                 1.344  0.915   \n",
       "2                      1                                 0.251  0.459   \n",
       "3                      1                                 0.251  0.459   \n",
       "4                      1                                 1.274  0.915   \n",
       "...                  ...                                   ...    ...   \n",
       "102080                 1                                -1.096 -0.205   \n",
       "102081                 1                                 1.274 -0.268   \n",
       "102082                 1                                 1.274  1.137   \n",
       "102083                 1                                 1.344  0.915   \n",
       "102084                 1                                 1.344  0.915   \n",
       "\n",
       "        NumberOfTime30-59DaysPastDueNotWorse  DebtRatio  MonthlyIncome  \\\n",
       "0                                     -1.743     -0.191           -0.0   \n",
       "1                                     -0.916      0.134           -0.0   \n",
       "2                                     -0.916      0.134           -0.0   \n",
       "3                                     -0.916     -0.191           -0.0   \n",
       "4                                     -0.916      0.085           -0.0   \n",
       "...                                      ...        ...            ...   \n",
       "102080                                -0.916      0.085           -0.0   \n",
       "102081                                -0.916      0.085           -0.0   \n",
       "102082                                -0.916     -0.191           -0.0   \n",
       "102083                                -0.916      0.134           -0.0   \n",
       "102084                                -0.916     -0.191           -0.0   \n",
       "\n",
       "        NumberOfOpenCreditLinesAndLoans  NumberOfTimes90DaysLate  \\\n",
       "0                                -0.384                   -1.935   \n",
       "1                                 0.037                   -1.935   \n",
       "2                                 0.122                   -1.935   \n",
       "3                                 0.122                   -1.935   \n",
       "4                                 0.122                   -1.935   \n",
       "...                                 ...                      ...   \n",
       "102080                            0.122                   -1.935   \n",
       "102081                            0.122                   -1.935   \n",
       "102082                            0.122                   -1.935   \n",
       "102083                            0.122                   -1.935   \n",
       "102084                            0.122                   -1.935   \n",
       "\n",
       "        NumberRealEstateLoansOrLines  NumberOfTime60-89DaysPastDueNotWorse  \\\n",
       "0                              0.235                                -1.815   \n",
       "1                              0.197                                -1.815   \n",
       "2                              0.235                                -1.815   \n",
       "3                             -0.025                                -1.815   \n",
       "4                             -0.025                                -1.815   \n",
       "...                              ...                                   ...   \n",
       "102080                        -0.588                                -1.815   \n",
       "102081                        -0.025                                -1.815   \n",
       "102082                        -0.588                                -1.815   \n",
       "102083                         0.235                                -1.815   \n",
       "102084                        -0.025                                -1.815   \n",
       "\n",
       "        NumberOfDependents  \n",
       "0                   -0.125  \n",
       "1                   -0.125  \n",
       "2                   -0.230  \n",
       "3                   -0.283  \n",
       "4                   -0.125  \n",
       "...                    ...  \n",
       "102080              -0.283  \n",
       "102081              -0.230  \n",
       "102082              -0.230  \n",
       "102083              -0.230  \n",
       "102084              -0.125  \n",
       "\n",
       "[102085 rows x 11 columns]"
      ]
     },
     "execution_count": 54,
     "metadata": {},
     "output_type": "execute_result"
    }
   ],
   "source": [
    "data"
   ]
  },
  {
   "cell_type": "code",
   "execution_count": 57,
   "id": "16b456f1-f9b0-4125-a38c-027d9150f34e",
   "metadata": {},
   "outputs": [],
   "source": [
    "data = pd.read_csv('WoeData.csv')\n",
    "df3=data.drop(['DebtRatio','MonthlyIncome','NumberOfOpenCreditLinesAndLoans','NumberRealEstateLoansOrLines','NumberOfTime60-89DaysPastDueNotWorse'],axis=1)\n",
    "df3.rename(columns={'NumberOfTime30-59DaysPastDueNotWorse':'NumberOfTimedays3059PastDueNotWorse'},inplace=True)"
   ]
  },
  {
   "cell_type": "code",
   "execution_count": 58,
   "id": "cd9b0e2a-5443-4051-a78d-c1b0a9fdcb49",
   "metadata": {},
   "outputs": [
    {
     "name": "stdout",
     "output_type": "stream",
     "text": [
      "Optimization terminated successfully.\n",
      "         Current function value: 0.185542\n",
      "         Iterations 8\n",
      "                           Logit Regression Results                           \n",
      "==============================================================================\n",
      "Dep. Variable:                      y   No. Observations:               102085\n",
      "Model:                          Logit   Df Residuals:                   102079\n",
      "Method:                           MLE   Df Model:                            5\n",
      "Date:                Fri, 24 Jun 2022   Pseudo R-squ.:                  0.2404\n",
      "Time:                        20:37:22   Log-Likelihood:                -18941.\n",
      "converged:                       True   LL-Null:                       -24936.\n",
      "Covariance Type:            nonrobust   LLR p-value:                     0.000\n",
      "==============================================================================\n",
      "                 coef    std err          z      P>|z|      [0.025      0.975]\n",
      "------------------------------------------------------------------------------\n",
      "const          9.2771      0.106     87.136      0.000       9.068       9.486\n",
      "x1             0.6494      0.015     41.956      0.000       0.619       0.680\n",
      "x2             0.4997      0.031     16.124      0.000       0.439       0.560\n",
      "x3             1.0472      0.029     35.684      0.000       0.990       1.105\n",
      "x4             1.6704      0.041     40.813      0.000       1.590       1.751\n",
      "x5             1.0355      0.043     24.094      0.000       0.951       1.120\n",
      "==============================================================================\n",
      "Optimization terminated successfully.\n",
      "         Current function value: 0.185542\n",
      "         Iterations 8\n"
     ]
    },
    {
     "data": {
      "text/plain": [
       "37894.06468262253"
      ]
     },
     "execution_count": 58,
     "metadata": {},
     "output_type": "execute_result"
    }
   ],
   "source": [
    "df3.rename(columns={'SeriousDlqin2yrs':'y'},inplace=True)\n",
    "#应变量\n",
    "Y3=df3[\"y\"]\n",
    "#自变量，剔除对因变量影响不明显的变量\n",
    "X3=df3.drop(['y'],axis=1)\n",
    "X33=sm.add_constant(X)\n",
    "logit3=sm.Logit(np.array(Y3),np.array(X33))\n",
    "result3=logit3.fit()\n",
    "print(result3.summary())\n",
    "logit3.fit().aic#获取随机函数的AIC值"
   ]
  },
  {
   "cell_type": "code",
   "execution_count": 60,
   "id": "fce41fef-424d-468c-8036-8c519a289b6a",
   "metadata": {},
   "outputs": [
    {
     "name": "stdout",
     "output_type": "stream",
     "text": [
      "Optimization terminated successfully.\n",
      "         Current function value: 0.185542\n",
      "         Iterations 8\n"
     ]
    },
    {
     "name": "stderr",
     "output_type": "stream",
     "text": [
      "D:\\anconda\\lib\\site-packages\\matplotlib\\backends\\backend_agg.py:238: RuntimeWarning: Glyph 20551 missing from current font.\n",
      "  font.set_text(s, 0.0, flags=flags)\n",
      "D:\\anconda\\lib\\site-packages\\matplotlib\\backends\\backend_agg.py:238: RuntimeWarning: Glyph 27491 missing from current font.\n",
      "  font.set_text(s, 0.0, flags=flags)\n",
      "D:\\anconda\\lib\\site-packages\\matplotlib\\backends\\backend_agg.py:238: RuntimeWarning: Glyph 29575 missing from current font.\n",
      "  font.set_text(s, 0.0, flags=flags)\n",
      "D:\\anconda\\lib\\site-packages\\matplotlib\\backends\\backend_agg.py:238: RuntimeWarning: Glyph 30495 missing from current font.\n",
      "  font.set_text(s, 0.0, flags=flags)\n",
      "D:\\anconda\\lib\\site-packages\\matplotlib\\backends\\backend_agg.py:201: RuntimeWarning: Glyph 20551 missing from current font.\n",
      "  font.set_text(s, 0, flags=flags)\n",
      "D:\\anconda\\lib\\site-packages\\matplotlib\\backends\\backend_agg.py:201: RuntimeWarning: Glyph 27491 missing from current font.\n",
      "  font.set_text(s, 0, flags=flags)\n",
      "D:\\anconda\\lib\\site-packages\\matplotlib\\backends\\backend_agg.py:201: RuntimeWarning: Glyph 29575 missing from current font.\n",
      "  font.set_text(s, 0, flags=flags)\n",
      "D:\\anconda\\lib\\site-packages\\matplotlib\\backends\\backend_agg.py:201: RuntimeWarning: Glyph 30495 missing from current font.\n",
      "  font.set_text(s, 0, flags=flags)\n"
     ]
    },
    {
     "data": {
      "image/png": "[encoded data removed]",
      "text/plain": [
       "<Figure size 432x288 with 1 Axes>"
      ]
     },
     "metadata": {
      "needs_background": "light"
     },
     "output_type": "display_data"
    }
   ],
   "source": [
    "from sklearn.metrics import roc_curve, auc\n",
    "resu3 = logit3.fit().predict(X33)#进行预测\n",
    "\n",
    "fpr3, tpr3, threshold3 = roc_curve(Y3, resu3)\n",
    "rocauc3 = auc(fpr3, tpr3)#计算AUC\n",
    "plt.plot(fpr3, tpr3, 'b', label='AUC = %0.2f' % rocauc3)#生成ROC曲线\n",
    "plt.legend(loc='lower right')\n",
    "plt.plot([0, 1], [0, 1], 'r--')\n",
    "plt.xlim([0, 1])\n",
    "plt.ylim([0, 1])\n",
    "plt.ylabel('真正率')\n",
    "plt.xlabel('假正率')\n",
    "plt.show()"
   ]
  },
  {
   "cell_type": "code",
   "execution_count": 61,
   "id": "26c71a8b-20f3-4d7f-8088-65f675e87eba",
   "metadata": {},
   "outputs": [
    {
     "name": "stdout",
     "output_type": "stream",
     "text": [
      "Optimization terminated successfully.\n",
      "         Current function value: 0.188197\n",
      "         Iterations 8\n",
      "                           Logit Regression Results                           \n",
      "==============================================================================\n",
      "Dep. Variable:                      y   No. Observations:               102085\n",
      "Model:                          Logit   Df Residuals:                   102079\n",
      "Method:                           MLE   Df Model:                            5\n",
      "Date:                Fri, 24 Jun 2022   Pseudo R-squ.:                  0.2295\n",
      "Time:                        20:46:07   Log-Likelihood:                -19212.\n",
      "converged:                       True   LL-Null:                       -24936.\n",
      "Covariance Type:            nonrobust   LLR p-value:                     0.000\n",
      "==============================================================================\n",
      "                 coef    std err          z      P>|z|      [0.025      0.975]\n",
      "------------------------------------------------------------------------------\n",
      "const          7.9712      0.090     88.686      0.000       7.795       8.147\n",
      "x1             0.6727      0.015     43.802      0.000       0.643       0.703\n",
      "x2             0.4991      0.031     15.998      0.000       0.438       0.560\n",
      "x3             1.1989      0.028     42.506      0.000       1.144       1.254\n",
      "x4             1.8860      0.039     47.772      0.000       1.809       1.963\n",
      "x5             0.2576      0.117      2.201      0.028       0.028       0.487\n",
      "==============================================================================\n",
      "Optimization terminated successfully.\n",
      "         Current function value: 0.188197\n",
      "         Iterations 8\n"
     ]
    },
    {
     "data": {
      "text/plain": [
       "38436.20521519526"
      ]
     },
     "execution_count": 61,
     "metadata": {},
     "output_type": "execute_result"
    }
   ],
   "source": [
    "df4=pd.read_csv('TestWoeData.csv')\n",
    "df4=data.drop(['DebtRatio','MonthlyIncome','NumberOfOpenCreditLinesAndLoans','NumberRealEstateLoansOrLines','NumberOfTime60-89DaysPastDueNotWorse'],axis=1)\n",
    "df4.rename(columns={'NumberOfTime30-59DaysPastDueNotWorse':'NumberOfTimedays3059PastDueNotWorse'},inplace=True)\n",
    "df4.rename(columns={'SeriousDlqin2yrs':'y'},inplace=True)\n",
    "#应变量\n",
    "Y4=df4[\"y\"]\n",
    "#自变量，剔除对因变量影响不明显的变量\n",
    "X4=df4.drop(['y'],axis=1)\n",
    "X44=sm.add_constant(X4)\n",
    "logit4=sm.Logit(np.array(Y4),np.array(X44))\n",
    "result4=logit4.fit()\n",
    "print(result4.summary())\n",
    "logit4.fit().aic#获取随机函数的AIC值"
   ]
  },
  {
   "cell_type": "code",
   "execution_count": 62,
   "id": "8f1728af-5849-47c3-9035-c5c7c18b8644",
   "metadata": {},
   "outputs": [
    {
     "name": "stdout",
     "output_type": "stream",
     "text": [
      "Optimization terminated successfully.\n",
      "         Current function value: 0.188197\n",
      "         Iterations 8\n"
     ]
    },
    {
     "name": "stderr",
     "output_type": "stream",
     "text": [
      "D:\\anconda\\lib\\site-packages\\matplotlib\\backends\\backend_agg.py:238: RuntimeWarning: Glyph 20551 missing from current font.\n",
      "  font.set_text(s, 0.0, flags=flags)\n",
      "D:\\anconda\\lib\\site-packages\\matplotlib\\backends\\backend_agg.py:238: RuntimeWarning: Glyph 27491 missing from current font.\n",
      "  font.set_text(s, 0.0, flags=flags)\n",
      "D:\\anconda\\lib\\site-packages\\matplotlib\\backends\\backend_agg.py:238: RuntimeWarning: Glyph 29575 missing from current font.\n",
      "  font.set_text(s, 0.0, flags=flags)\n",
      "D:\\anconda\\lib\\site-packages\\matplotlib\\backends\\backend_agg.py:238: RuntimeWarning: Glyph 30495 missing from current font.\n",
      "  font.set_text(s, 0.0, flags=flags)\n",
      "D:\\anconda\\lib\\site-packages\\matplotlib\\backends\\backend_agg.py:201: RuntimeWarning: Glyph 20551 missing from current font.\n",
      "  font.set_text(s, 0, flags=flags)\n",
      "D:\\anconda\\lib\\site-packages\\matplotlib\\backends\\backend_agg.py:201: RuntimeWarning: Glyph 27491 missing from current font.\n",
      "  font.set_text(s, 0, flags=flags)\n",
      "D:\\anconda\\lib\\site-packages\\matplotlib\\backends\\backend_agg.py:201: RuntimeWarning: Glyph 29575 missing from current font.\n",
      "  font.set_text(s, 0, flags=flags)\n",
      "D:\\anconda\\lib\\site-packages\\matplotlib\\backends\\backend_agg.py:201: RuntimeWarning: Glyph 30495 missing from current font.\n",
      "  font.set_text(s, 0, flags=flags)\n"
     ]
    },
    {
     "data": {
      "image/png": "[encoded data removed]",
      "text/plain": [
       "<Figure size 432x288 with 1 Axes>"
      ]
     },
     "metadata": {
      "needs_background": "light"
     },
     "output_type": "display_data"
    }
   ],
   "source": [
    "from sklearn.metrics import roc_curve, auc\n",
    "resu4 = logit4.fit().predict(X44)#进行预测\n",
    "\n",
    "fpr4, tpr4, threshold4= roc_curve(Y4, resu4)\n",
    "rocauc4 = auc(fpr4, tpr4)#计算AUC\n",
    "plt.plot(fpr4, tpr4, 'b', label='AUC = %0.2f' % rocauc4)#生成ROC曲线\n",
    "plt.legend(loc='lower right')\n",
    "plt.plot([0, 1], [0, 1], 'r--')\n",
    "plt.xlim([0, 1])\n",
    "plt.ylim([0, 1])\n",
    "plt.ylabel('真正率')\n",
    "plt.xlabel('假正率')\n",
    "plt.show()"
   ]
  },
  {
   "cell_type": "code",
   "execution_count": 68,
   "id": "7b4de251-4d18-45b9-98ba-2cbc20e3596c",
   "metadata": {},
   "outputs": [
    {
     "data": {
      "text/plain": [
       "251.86197388914752"
      ]
     },
     "execution_count": 68,
     "metadata": {},
     "output_type": "execute_result"
    }
   ],
   "source": [
    "B = 20/np.log(2) \n",
    "A = 600 + B*np.log(1/60) \n",
    "B,A\n",
    "\n",
    "# 计算基础分\n",
    "base_score = A-B*7.9712  \n",
    "base_score"
   ]
  },
  {
   "cell_type": "code",
   "execution_count": 66,
   "id": "8f53cc57-2de9-4482-b1e0-63e46cb0f643",
   "metadata": {},
   "outputs": [
    {
     "name": "stdout",
     "output_type": "stream",
     "text": [
      "                           Logit Regression Results                           \n",
      "==============================================================================\n",
      "Dep. Variable:                      y   No. Observations:               102085\n",
      "Model:                          Logit   Df Residuals:                   102079\n",
      "Method:                           MLE   Df Model:                            5\n",
      "Date:                Fri, 24 Jun 2022   Pseudo R-squ.:                  0.2295\n",
      "Time:                        20:54:29   Log-Likelihood:                -19212.\n",
      "converged:                       True   LL-Null:                       -24936.\n",
      "Covariance Type:            nonrobust   LLR p-value:                     0.000\n",
      "==============================================================================\n",
      "                 coef    std err          z      P>|z|      [0.025      0.975]\n",
      "------------------------------------------------------------------------------\n",
      "const          7.9712      0.090     88.686      0.000       7.795       8.147\n",
      "x1             0.6727      0.015     43.802      0.000       0.643       0.703\n",
      "x2             0.4991      0.031     15.998      0.000       0.438       0.560\n",
      "x3             1.1989      0.028     42.506      0.000       1.144       1.254\n",
      "x4             1.8860      0.039     47.772      0.000       1.809       1.963\n",
      "x5             0.2576      0.117      2.201      0.028       0.028       0.487\n",
      "==============================================================================\n"
     ]
    }
   ],
   "source": [
    "print(result4.summary())"
   ]
  },
  {
   "cell_type": "code",
   "execution_count": 69,
   "id": "e0368a8d-85f3-4403-8917-d7b4434915c4",
   "metadata": {},
   "outputs": [],
   "source": [
    "coef=[0.6727,0.4991,1.1989,1.8860,0.2576]"
   ]
  },
  {
   "cell_type": "code",
   "execution_count": 70,
   "id": "755bf476-fcf7-4bb4-a753-5b6b0e019877",
   "metadata": {},
   "outputs": [],
   "source": [
    "data=pd.read_csv(\"TestWoeData.csv\")\n",
    "dat=data.loc[:,['NumberOfTime30-59DaysPastDueNotWorse', 'age', 'NumberOfDependents', 'RevolvingUtilizationOfUnsecuredLines', 'NumberOfTimes90DaysLate']]\n",
    "\n",
    "file = \"ScoreData.csv\"\n",
    "#第二个参数是打开文件后的用途，\"w\"表示用于写入，通常使用的是\"r\"，表示打开来阅读\n",
    "#首先写入基准分数\n",
    "#之后使用循环，每次生成一组score_age类似的分档和分数，不断写入文件之中\n",
    "\n",
    "with open(file,\"w\") as fdata:\n",
    "    fdata.write(\"base_score,{}\\n\".format(base_score))\n",
    "for i,col in enumerate(dat.columns):\n",
    "    for j in range(0,len(dat[\"age\"])):\n",
    "        score = dat.loc[[j],[col]] * (-B*coef[i])\n",
    "    score.name = \"Score\"\n",
    "    score.index.name = col\n",
    "    score.to_csv(file,header=True,mode=\"a\")"
   ]
  }
 ],
 "metadata": {
  "kernelspec": {
   "display_name": "Python 3",
   "language": "python",
   "name": "python3"
  },
  "language_info": {
   "codemirror_mode": {
    "name": "ipython",
    "version": 3
   },
   "file_extension": ".py",
   "mimetype": "text/x-python",
   "name": "python",
   "nbconvert_exporter": "python",
   "pygments_lexer": "ipython3",
   "version": "3.8.8"
  }
 },
 "nbformat": 4,
 "nbformat_minor": 5
}
